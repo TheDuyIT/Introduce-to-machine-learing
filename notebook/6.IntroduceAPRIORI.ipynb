{
 "cells": [
  {
   "cell_type": "markdown",
   "metadata": {},
   "source": [
    "# <center>Apriori Algorithm</center>"
   ]
  },
  {
   "cell_type": "markdown",
   "metadata": {},
   "source": [
    "# 1. Giới thiệu"
   ]
  },
  {
   "cell_type": "markdown",
   "metadata": {},
   "source": [
    "Khi chúng ta đi mua sắm, ta thường thấy những sản phẩm có liên quan đến nhau thường được đặt cạnh nhau để gợi cho người mua có thể sẽ mua sản phẩm đó. Tại sao họ biết mà sắp xếp được như vậy? Đó là dựa vào khai phá luật kết hợp."
   ]
  },
  {
   "cell_type": "markdown",
   "metadata": {},
   "source": [
    "![](https://github.com/HuynhHoa99/AprioriAlgorithm/blob/master/image/apriori1.jpg?raw=true)"
   ]
  },
  {
   "cell_type": "markdown",
   "metadata": {},
   "source": [
    "### Khai phá luật kết hợp là gì?"
   ]
  },
  {
   "cell_type": "markdown",
   "metadata": {},
   "source": [
    "![](https://raw.githubusercontent.com/HuynhHoa99/AprioriAlgorithm/master/image/apriori2.webp)"
   ]
  },
  {
   "cell_type": "markdown",
   "metadata": {},
   "source": [
    "- Khai phá luật kết hợp (*Association Rule Mining*) được ứng dụng phổ biến trong kinh doanh. Nó được sử dụng rộng rãi để hiểu và thử nghiệm các chiến lược kinh doanh, tiếp thị khác nhau để tăng doanh số và năng suất của các tổ chức, bao gồm chuỗi siêu thị và thị trường trực tuyến.\n",
    "- Khai phá luật kết hợp là học tập dựa trên quy tắc (*rule-based learning*) để xác định sự liên kết giữa các sản phẩm khác nhau trong cơ sở dữ liệu. Một trong những ví dụ tốt nhất và phổ biến nhất của Khai phá luật kết hợp là phân tích giỏ thị trường (*Market Basket Analysis*). Phân tích sự liên kết giữa các mặt hàng khác nhau có xác suất cao nhất được mua bởi khách hàng.\n",
    "- Ví dụ, hiểu được thói quen mua hàng của khách hàng bằng cách tìm ra mối tương quan và mối liên hệ giữa các mặt hàng khác nhau mà khách hàng đặt trong ‘giỏ hàng của họ', từ đó có thể rút ra các mẫu theo định kỳ.\n",
    "    - Cụ thể, anh Dii đi mua một chai rượu trong siêu thị. Anh cũng lấy một vài gói khô bò. Người quản lý ở đó phân tích rằng, không chỉ anh Dii, mọi người thường có xu hướng mua rượu và khô bò cùng nhau. Sau khi tìm ra mô hình, người quản lý bắt đầu sắp xếp các mặt hàng này lại với nhau và sau đó đã có thông báo tăng doanh số.\n",
    "- Quá trình xác định mối liên kết giữa các sản phẩm / mặt hàng được gọi là khai phá luật kết hợp. Để thực hiện khai thác quy tắc kết hợp, nhiều thuật toán đã được phát triển. Thuật toán **Apriori** là một trong những thuật toán phổ biến nhất và được cho là hiệu quả nhất trong số đó. Chúng ta tiếp tục thảo luận về thuật toán **Apriori** là gì nhé!"
   ]
  },
  {
   "cell_type": "markdown",
   "metadata": {},
   "source": [
    "# 2. Thuật toán Apriori"
   ]
  },
  {
   "cell_type": "markdown",
   "metadata": {},
   "source": [
    "## 2.1 Thuật toán Apriori là gì?"
   ]
  },
  {
   "cell_type": "markdown",
   "metadata": {},
   "source": [
    "- Thuật toán được đề xuất lần đầu tiên vào năm 1994 bởi Rakesh Agrawal và Ramakrishnan Srikant, nó thực hiện việc tìm các mục hoặc phần tử thường xuyên nhất trong cơ sở dữ liệu giao dịch và xác định các quy tắc kết hợp giữa các mục giống như ví dụ đã đề cập ở trên.\n",
    "- Theo thuật toán, bất kỳ tập hợp con của một tập hợp phổ biến thì phổ biến.\n",
    "\n",
    "![](https://raw.githubusercontent.com/HuynhHoa99/AprioriAlgorithm/master/image/apriori3.webp)\n",
    "\n",
    "- Cụ thể, ta có 2 giao dịch (*transaction*) chứa {rượu vang, khoai tây chiên, bánh mì} và {rượu vang, bánh mì}. Vì vậy, theo nguyên tắc của **Apriori**, nếu {rượu, khoai tây chiên, bánh mì} là phổ biến, thì {rượu, bánh mì} cũng phải phổ biến."
   ]
  },
  {
   "cell_type": "markdown",
   "metadata": {},
   "source": [
    "## 2.2 Cách mà thuật toán Apriori làm việc?"
   ]
  },
  {
   "cell_type": "markdown",
   "metadata": {},
   "source": [
    "- Ý tưởng chính trong thuật toán **Apriori** là tất cả các tập hợp con của một tập hợp mục (*item*) phổ biến là phổ biến. Tương tự, đối với bất kỳ mục (*item*) không phổ biến nào, tất cả các tập hợp con của nó cũng phải không phổ biến.\n",
    "- Để hiểu hơn về thuật toán **Apriori**, ta sẽ đi qua một ví dụ: Ở đây , dataset chứa 6 giao dịch (*transaction*) trong một giờ, mỗi giao dịch thể hiện những sản phẩm được mua, 0 là không mua, 1 là mua.\n",
    "\n",
    "![](https://github.com/HuynhHoa99/AprioriAlgorithm/blob/master/image/ex1.PNG?raw=true)\n",
    "\n",
    "- Dựa vào dataset trên, ta có thể tìm thấy các luật. Ví dụ như nếu Wine và Chips được mua, thì khách hàng cũng sẽ mua Bread\n",
    "- Để tìm ra điều đó, ta phải sử dụng các độ đo sau:\n",
    "    - Support\n",
    "    - Confidence\n",
    "    - Lift"
   ]
  },
  {
   "cell_type": "markdown",
   "metadata": {},
   "source": [
    "- Support: là tỉ lệ của số lượng các giao dịch có chứa tập các mặt hàng $A$ và tổng tất cả các giao dịch.\n",
    "\n",
    "$$Supp(A) = \\frac{\\text{number of transactions in which A appears}}{\\text{total number of transactions}}$$\n",
    "\n",
    "ex:\n",
    "\n",
    "$Supp(wine) = \\frac{4}{6} = 0.6667$\n",
    "\n",
    "- Confidence: biểu thị khả năng tập các mặt hàng $B$ được mua khi $A$ được mua\n",
    "\n",
    "$$Conf(A => B) = \\frac{\\text{supp(AB)}}{\\text{supp(A)}}$$\n",
    "\n",
    "ex:\n",
    "\n",
    "$Conf(\\text{{wine, chips}=> {bread}}) = \\frac{\\text{supp({wine, chips, bread})}}{\\text{supp({wine, chips})}} = \\frac{\\frac{2}{6}}{\\frac{3}{6}} = 0.667$\n",
    "\n",
    "- Lift: biểu thị khả năng $B$ được mua khi $A$ được bán, thể hiện mức độ phổ biến $B$\n",
    "\n",
    "$$Lift(A => B) = \\frac{\\text{supp(AB)}}{\\text{supp(A)*supp(B)}}$$\n",
    "\n",
    "ex:\n",
    "\n",
    "$Lift(\\text{{wine, chips}=> {bread}}) = \\frac{\\text{supp({wine, chips, bread})}}{\\text{supp({wine, chips})*supp({bread})}} = \\frac{\\frac{2}{6}}{\\frac{3}{6}*\\frac{4}{6}} = 1$\n",
    "\n",
    "Ta có:\n",
    "- $Lift(A=>B) = 1$ nghĩa là không có mối tương quan trong các mục.\n",
    "- $Lift(A=>B) > 1$ nghĩa là có một mối tương quan tích cực trong itemset, tức là $A$ và $B$ có nhiều khả năng được mua cùng nhau.\n",
    "- $Lift(A=>B) < 1$ nghĩa là có một mối tương quan tiêu cực trong itemset, tức là $A$ và $B$ không có khả năng được mua cùng nhau."
   ]
  },
  {
   "cell_type": "markdown",
   "metadata": {},
   "source": [
    "# 3. Demo đơn giản"
   ]
  },
  {
   "cell_type": "code",
   "execution_count": 16,
   "metadata": {},
   "outputs": [],
   "source": [
    "# Importing the required dataset\n",
    "import numpy as np\n",
    "import pandas as pd\n",
    "from apyori import apriori"
   ]
  },
  {
   "cell_type": "code",
   "execution_count": 17,
   "metadata": {},
   "outputs": [],
   "source": [
    "# Loading dataset\n",
    "store_data = pd.read_csv('https://raw.githubusercontent.com/HuynhHoa99/AprioriAlgorithm/master/Day1.csv', header=None)"
   ]
  },
  {
   "cell_type": "code",
   "execution_count": 18,
   "metadata": {},
   "outputs": [
    {
     "data": {
      "text/html": [
       "<div>\n",
       "<style scoped>\n",
       "    .dataframe tbody tr th:only-of-type {\n",
       "        vertical-align: middle;\n",
       "    }\n",
       "\n",
       "    .dataframe tbody tr th {\n",
       "        vertical-align: top;\n",
       "    }\n",
       "\n",
       "    .dataframe thead th {\n",
       "        text-align: right;\n",
       "    }\n",
       "</style>\n",
       "<table border=\"1\" class=\"dataframe\">\n",
       "  <thead>\n",
       "    <tr style=\"text-align: right;\">\n",
       "      <th></th>\n",
       "      <th>0</th>\n",
       "      <th>1</th>\n",
       "      <th>2</th>\n",
       "      <th>3</th>\n",
       "      <th>4</th>\n",
       "      <th>5</th>\n",
       "    </tr>\n",
       "  </thead>\n",
       "  <tbody>\n",
       "    <tr>\n",
       "      <th>0</th>\n",
       "      <td>Wine</td>\n",
       "      <td>Chips</td>\n",
       "      <td>Bread</td>\n",
       "      <td>Butter</td>\n",
       "      <td>Milk</td>\n",
       "      <td>Apple</td>\n",
       "    </tr>\n",
       "    <tr>\n",
       "      <th>1</th>\n",
       "      <td>Wine</td>\n",
       "      <td>NaN</td>\n",
       "      <td>Bread</td>\n",
       "      <td>Butter</td>\n",
       "      <td>Milk</td>\n",
       "      <td>NaN</td>\n",
       "    </tr>\n",
       "    <tr>\n",
       "      <th>2</th>\n",
       "      <td>NaN</td>\n",
       "      <td>NaN</td>\n",
       "      <td>Bread</td>\n",
       "      <td>Butter</td>\n",
       "      <td>Milk</td>\n",
       "      <td>NaN</td>\n",
       "    </tr>\n",
       "    <tr>\n",
       "      <th>3</th>\n",
       "      <td>NaN</td>\n",
       "      <td>Chips</td>\n",
       "      <td>NaN</td>\n",
       "      <td>NaN</td>\n",
       "      <td>NaN</td>\n",
       "      <td>Apple</td>\n",
       "    </tr>\n",
       "    <tr>\n",
       "      <th>4</th>\n",
       "      <td>Wine</td>\n",
       "      <td>Chips</td>\n",
       "      <td>Bread</td>\n",
       "      <td>Butter</td>\n",
       "      <td>Milk</td>\n",
       "      <td>Apple</td>\n",
       "    </tr>\n",
       "  </tbody>\n",
       "</table>\n",
       "</div>"
      ],
      "text/plain": [
       "      0      1      2       3     4      5\n",
       "0  Wine  Chips  Bread  Butter  Milk  Apple\n",
       "1  Wine    NaN  Bread  Butter  Milk    NaN\n",
       "2   NaN    NaN  Bread  Butter  Milk    NaN\n",
       "3   NaN  Chips    NaN     NaN   NaN  Apple\n",
       "4  Wine  Chips  Bread  Butter  Milk  Apple"
      ]
     },
     "execution_count": 18,
     "metadata": {},
     "output_type": "execute_result"
    }
   ],
   "source": [
    "store_data.head()"
   ]
  },
  {
   "cell_type": "code",
   "execution_count": 19,
   "metadata": {},
   "outputs": [
    {
     "data": {
      "text/plain": [
       "(22, 6)"
      ]
     },
     "execution_count": 19,
     "metadata": {},
     "output_type": "execute_result"
    }
   ],
   "source": [
    "store_data.shape"
   ]
  },
  {
   "cell_type": "code",
   "execution_count": 12,
   "metadata": {},
   "outputs": [],
   "source": [
    "records = []\n",
    "for i in range(22):\n",
    "    records.append([str(store_data.values[i, j]) for j in range(6)])"
   ]
  },
  {
   "cell_type": "code",
   "execution_count": 13,
   "metadata": {},
   "outputs": [
    {
     "data": {
      "text/plain": [
       "[['Wine', 'Chips', 'Bread', 'Butter', 'Milk', 'Apple'],\n",
       " ['Wine', 'nan', 'Bread', 'Butter', 'Milk', 'nan'],\n",
       " ['nan', 'nan', 'Bread', 'Butter', 'Milk', 'nan'],\n",
       " ['nan', 'Chips', 'nan', 'nan', 'nan', 'Apple'],\n",
       " ['Wine', 'Chips', 'Bread', 'Butter', 'Milk', 'Apple'],\n",
       " ['Wine', 'Chips', 'nan', 'nan', 'Milk', 'nan'],\n",
       " ['Wine', 'Chips', 'Bread', 'Butter', 'nan', 'Apple'],\n",
       " ['Wine', 'Chips', 'nan', 'nan', 'Milk', 'nan'],\n",
       " ['Wine', 'nan', 'Bread', 'nan', 'nan', 'Apple'],\n",
       " ['Wine', 'nan', 'Bread', 'Butter', 'Milk', 'nan'],\n",
       " ['nan', 'Chips', 'Bread', 'Butter', 'nan', 'Apple'],\n",
       " ['Wine', 'nan', 'nan', 'Butter', 'Milk', 'Apple'],\n",
       " ['Wine', 'Chips', 'Bread', 'Butter', 'Milk', 'nan'],\n",
       " ['Wine', 'nan', 'Bread', 'nan', 'Milk', 'Apple'],\n",
       " ['Wine', 'nan', 'Bread', 'Butter', 'Milk', 'Apple'],\n",
       " ['Wine', 'Chips', 'Bread', 'Butter', 'Milk', 'Apple'],\n",
       " ['nan', 'Chips', 'Bread', 'Butter', 'Milk', 'Apple'],\n",
       " ['nan', 'Chips', 'nan', 'Butter', 'Milk', 'Apple'],\n",
       " ['Wine', 'Chips', 'Bread', 'Butter', 'Milk', 'Apple'],\n",
       " ['Wine', 'nan', 'Bread', 'Butter', 'Milk', 'Apple'],\n",
       " ['Wine', 'Chips', 'Bread', 'nan', 'Milk', 'Apple'],\n",
       " ['nan', 'Chips', 'nan', 'nan', 'nan', 'nan']]"
      ]
     },
     "execution_count": 13,
     "metadata": {},
     "output_type": "execute_result"
    }
   ],
   "source": [
    "records"
   ]
  },
  {
   "cell_type": "code",
   "execution_count": 14,
   "metadata": {},
   "outputs": [],
   "source": [
    "association_rules = apriori(records, min_support=0.5, min_confidence=0.7, min_lift=1.2, min_length=2)\n",
    "association_results = list(association_rules)"
   ]
  },
  {
   "cell_type": "code",
   "execution_count": 15,
   "metadata": {},
   "outputs": [
    {
     "name": "stdout",
     "output_type": "stream",
     "text": [
      "[RelationRecord(items=frozenset({'Bread', 'Milk', 'Butter'}), support=0.5, ordered_statistics=[OrderedStatistic(items_base=frozenset({'Butter'}), items_add=frozenset({'Bread', 'Milk'}), confidence=0.7333333333333334, lift=1.241025641025641), OrderedStatistic(items_base=frozenset({'Bread', 'Milk'}), items_add=frozenset({'Butter'}), confidence=0.8461538461538461, lift=1.241025641025641)])]\n"
     ]
    }
   ],
   "source": [
    "print(association_results)"
   ]
  },
  {
   "cell_type": "markdown",
   "metadata": {},
   "source": [
    "- Giải thích kết quả:\n",
    "    - Giá trị hổ trợ (*support*) của luật đầu tiên là 0.5 (được tính bằng số lượng giao dịch chứa { ‘Milk,’ ‘Bread,’,‘Butter’} chia cho tổng số giao dịch).\n",
    "    - Mức độ tin cậy (*confidence*) cho luật là 0.846 (điều này cho thấy rằng trong số tất cả các giao dịch có chứa cả {'Milk', 'Bread'} thì có 84,6% cũng chứa ‘Butter').\n",
    "    - Mức độ tương quan (*lift*) là 1.241 cho chúng ta biết rằng ‘Butter’ có khả năng được mua nhiều hơn gấp 1,241 lần bởi những khách hàng mua cả ‘Milk’ và ‘Butter’ so với những người chỉ mua ‘Butter’.\n"
   ]
  },
  {
   "cell_type": "markdown",
   "metadata": {},
   "source": [
    "# 4. Kết luận"
   ]
  },
  {
   "cell_type": "markdown",
   "metadata": {},
   "source": [
    "## 4.1 Ứng dụng"
   ]
  },
  {
   "cell_type": "markdown",
   "metadata": {},
   "source": [
    "- Việc thuật toán **Apriori** có thể làm là nhìn vào quá khứ và khẳng định rằng nếu một việc gì đó xảy ra thì sẽ có tỉ lệ bao nhiêu phần trăm sự việc tiếp theo sẽ xảy ra. Nó giống như nhìn vào quá khứ để dự đoán tương lại vậy, và việc này rất có ít cho các nhà kinh doanh."
   ]
  },
  {
   "cell_type": "markdown",
   "metadata": {},
   "source": [
    "## 4.2 Ưu điểm"
   ]
  },
  {
   "cell_type": "markdown",
   "metadata": {},
   "source": [
    "- Đây là thuật toán đơn giản và dễ hiểu nhất trong số các thuật toán học quy tắc kết hợp.\n",
    "- Các quy tắc kết quả là trực quan và dễ dàng để giao tiếp với người dùng cuối.\n",
    "- Nó không yêu cầu dữ liệu được dán nhãn vì nó là thuật toán không giám sát, do đó bạn có thể sử dụng nó trong nhiều tình huống khác nhau vì dữ liệu không được gắn nhãn thường dễ truy cập hơn.\n",
    "- Nhiều tiện ích mở rộng đã được đề xuất cho các trường hợp sử dụng khác nhau dựa trên triển khai này, ví dụ, có các thuật toán học liên kết có tính đến việc đặt hàng các mặt hàng, số lượng của chúng và khoảng thời gian liên quan."
   ]
  },
  {
   "cell_type": "markdown",
   "metadata": {},
   "source": [
    "## 4.3 Nhược điểm"
   ]
  },
  {
   "cell_type": "markdown",
   "metadata": {},
   "source": [
    "- Phải duyệt CSDL nhiều lần. Với $I = {i_1, i_2, ..., i_{100}}$, số lần duyệt CSDL sẽ là 100.\n",
    "- Số lượng tập ứng viên rất lớn: $2^{100} - 1 = 1.27 * 10^{30}$.\n",
    "- Thực hiện việc tính độ phổ biến nhiều, đơn điệu."
   ]
  },
  {
   "cell_type": "markdown",
   "metadata": {},
   "source": [
    "## 4.4 Ý tưởng cải tiến"
   ]
  },
  {
   "cell_type": "markdown",
   "metadata": {},
   "source": [
    "- Giảm số lần duyệt CSDL.\n",
    "- Giảm số lượng tập ứng viên.\n",
    "- Qui trình tính độ phổ biến thuận tiện hơn."
   ]
  },
  {
   "cell_type": "markdown",
   "metadata": {},
   "source": [
    "# 5. Tài liệu tham khảo"
   ]
  },
  {
   "cell_type": "markdown",
   "metadata": {},
   "source": [
    "$^{[1]}$ [Intellipaat: Data Science – Apriori Algorithm in Python- Market Basket Analysis](https://intellipaat.com/blog/data-science-apriori-algorithm/#What-Is-Association-Rule-Mining)\n",
    "\n",
    "$^{[2]}$ [Analyticsindiamag: Beginner's guide to understanding apriori algorithm with implementation in python](https://analyticsindiamag.com/beginners-guide-to-understanding-apriori-algorithm-with-implementation-in-python/)\n",
    "\n",
    "$^{[3]}$ [Nguyen Minh Duc: Thuat toan apriori khai pha luat ket hop trong data mining](https://viblo.asia/p/thuat-toan-apriori-khai-pha-luat-ket-hop-trong-data-mining-3P0lPEv85ox)\n",
    "\n",
    "$^{[4]}$ [Book: Big data and business intelligence](https://subscription.packtpub.com/book/big_data_and_business_intelligence/9781787121515/5/ch05lvl1sec63/the-pros-and-cons-of-apriori)"
   ]
  }
 ],
 "metadata": {
  "kernelspec": {
   "display_name": "Python 3",
   "language": "python",
   "name": "python3"
  },
  "language_info": {
   "codemirror_mode": {
    "name": "ipython",
    "version": 3
   },
   "file_extension": ".py",
   "mimetype": "text/x-python",
   "name": "python",
   "nbconvert_exporter": "python",
   "pygments_lexer": "ipython3",
   "version": "3.7.3"
  }
 },
 "nbformat": 4,
 "nbformat_minor": 2
}
