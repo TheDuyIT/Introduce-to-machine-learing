{
 "cells": [
  {
   "cell_type": "markdown",
   "metadata": {
    "colab_type": "text",
    "id": "enNpW3djGBHd"
   },
   "source": [
    "# Chapter 3 - A Tour of Machine Learning Classifiers Using Scikit-Learn\n",
    "\n"
   ]
  },
  {
   "cell_type": "markdown",
   "metadata": {
    "colab_type": "text",
    "id": "fPbIFfYnGBHm"
   },
   "source": [
    "# Tổng quan"
   ]
  },
  {
   "cell_type": "markdown",
   "metadata": {
    "colab_type": "text",
    "id": "2mZNNCBDGBHn"
   },
   "source": [
    "- [1. Giới thiệu](#1.-Giới-thiệu)\n",
    "- [2. Ý tưởng chính](#2.-Ý-tưởng-chính)\n",
    "    - [2.1 Activation function](#2.1-Activation-function)\n",
    "    - [2.2 Lost function](#2.2-Lost-function)\n",
    "- [3. Demo đơn giản](#3.-Demo-đơn-giản)\n",
    "- [4. Hạn chế](#4.-Hạn-chế)\n",
    "- [5. Tài liệu tham khảo](#5.-Tài-liệu-tham-khảo)\n",
    "\n"
   ]
  },
  {
   "cell_type": "markdown",
   "metadata": {
    "colab_type": "text",
    "id": "s47C1tRlGBIZ"
   },
   "source": [
    "## 1. Giới thiệu"
   ]
  },
  {
   "cell_type": "markdown",
   "metadata": {},
   "source": [
    "Hồi quy logistic (logistic regression) là một mô hình thống kê, mô hình hoá biến phụ thuộc nhị phân. Về cơ bản, ý tưởng của hồi quy logistic là tìm mối quan hệ giữa các đặc trưng và xác suất của kết quả cụ thể (0 hoặc 1, đậu hoặc rớt,..)"
   ]
  },
  {
   "cell_type": "markdown",
   "metadata": {
    "colab_type": "text",
    "id": "yosEDcQuqm9K"
   },
   "source": [
    "Trong thực tế, hồi quy logistic không chỉ ứng dụng trong dự đoán nhãn mà còn dùng để dự đoán xác suất xảy ra của một vấn đề cụ thể. Trong dự báo thời tiết, hồi quy logistic không chỉ dự đoán một ngày trong tương lai có mưa hay không, mà còn dự đoán được xác suất xảy ra mưa. Tương tự, hồi quy logistic có thể được sử dụng để dự đoán khả năng bệnh nhân mắc một bệnh cụ thể với các triệu chứng nhất định, đó là lý do tại sao nó rất phổ biến trong lĩnh vực y học."
   ]
  },
  {
   "cell_type": "markdown",
   "metadata": {
    "colab": {},
    "colab_type": "code",
    "id": "oxZAb7Fp-w53"
   },
   "source": [
    "|![Mô hình hồi quy logistic](https://raw.githubusercontent.com/TheDuyIT/Introduce-to-machine-learing/master/images/2/model.png)| \n",
    "|:--:| \n",
    "|*Mô hình hồi quy logistic*|\n"
   ]
  },
  {
   "cell_type": "markdown",
   "metadata": {},
   "source": [
    "Ảnh trên biểu diễn một mô hình hồi quy logistic cơ bản với:\n",
    "\n",
    "- $x=[1,x_1, x_2,..., x_n]$ là các biến độc lập biểu thị cho các đặc trưng trong data set\n",
    "- $w=[w_0, w_1, w_2,..., w_n]$ là các tham số cần học, với $w_0$ là hệ số bias\n",
    "- net input $\\sum$ = $w^Tx $\n",
    "\n",
    "Và nếu ai đã tìm hiểu về linear regression thì sẽ nhận ra sự khác biệt về *activation function* giữa linear regression và logistic regression là hàm **Sigmoid**\n",
    "\n",
    "Cùng với activation function, **loss function** là một hàm quan trọng đối với một mô hình học máy."
   ]
  },
  {
   "cell_type": "markdown",
   "metadata": {},
   "source": [
    "Như vậy, ở bài viết này chúng ta sẽ cùng nhau phân tích về activation function và loss function của logistic regression."
   ]
  },
  {
   "cell_type": "markdown",
   "metadata": {},
   "source": [
    "## 2. Ý tưởng chính"
   ]
  },
  {
   "cell_type": "markdown",
   "metadata": {
    "colab_type": "text",
    "id": "4mZK_cHzGBIb"
   },
   "source": [
    "### 2.1 Activation function"
   ]
  },
  {
   "cell_type": "markdown",
   "metadata": {},
   "source": [
    "Trước tiên hãy cùng nhau biểu diễn hàm sigmoid trên trục toạ độ"
   ]
  },
  {
   "cell_type": "markdown",
   "metadata": {},
   "source": [
    "|![Hàm sigmoid](https://raw.githubusercontent.com/TheDuyIT/Introduce-to-machine-learing/master/images/2/sigmoid.png)| \n",
    "|:--:| \n",
    "|*Hàm sigmoid*|"
   ]
  },
  {
   "cell_type": "markdown",
   "metadata": {},
   "source": [
    "Có thể thấy sigmoid nhận giá trị đầu vào $-\\infty$ $\\rightarrow$ $+\\infty$ và cho ra output 0 $\\rightarrow$ 1"
   ]
  },
  {
   "cell_type": "markdown",
   "metadata": {},
   "source": [
    "|![](https://raw.githubusercontent.com/TheDuyIT/Introduce-to-machine-learing/master/images/2/relationship.png)| \n",
    "|:--:| \n",
    "||\n"
   ]
  },
  {
   "cell_type": "markdown",
   "metadata": {},
   "source": [
    "Như vậy, có thể thấy sigmoid là hàm trung gian biểu thị mối quan hệ tuyến tính giữa các đặc trưng $x$\n",
    "và giá trị xác suất $p$ cần dự đoán."
   ]
  },
  {
   "cell_type": "markdown",
   "metadata": {
    "colab_type": "text",
    "id": "NeMSCMAHsnW3"
   },
   "source": [
    "|![](https://raw.githubusercontent.com/TheDuyIT/Introduce-to-machine-learing/master/images/2/question.png)| \n",
    "|:--:| \n",
    "||\n"
   ]
  },
  {
   "cell_type": "markdown",
   "metadata": {
    "colab": {},
    "colab_type": "code",
    "id": "e2CQERc8eA7y"
   },
   "source": [
    "Hàm Sigmoid là một hàm nghịch đảo của [logit](https://en.wikipedia.org/wiki/Logit). Logit là sự kết hợp giữa  [odd (tỉ lệ cược)](https://www.theanalysisfactor.com/understanding-odds-and-probability/) và logarit cơ số e. Tương tự như xác suất, odd là một khái niệm trong thống kê thể hiện số lần thành công xảy ra so với số lần thất bại xảy ra. Mặc dù xác suất và tỷ lệ cược đều đo lường khả năng xảy ra điều gì đó, nhưng xác suất được dùng nhiều hơn trong thực tế vì nó dễ hiểu hơn đối với hầu hết chúng ta."
   ]
  },
  {
   "cell_type": "markdown",
   "metadata": {
    "colab_type": "text",
    "id": "4ZRsSy4ItVhY"
   },
   "source": [
    "$\\quad \\quad \\quad \\quad \\quad \\quad \\quad \\quad \\text{Odds:}$ $$\\frac{p}{1-p} = \\frac{\\frac{C_{positive}}{n}}{\\frac{C_{nagative}}{n}} = \\frac{C_{positive}}{C_{nagative}}$$\n",
    "\n",
    "$\\quad \\quad \\quad \\quad \\quad \\quad \\quad \\quad \\text{Logit:}$$$\\ln{\\frac{p}{1-p}}$$\n"
   ]
  },
  {
   "cell_type": "markdown",
   "metadata": {
    "colab_type": "text",
    "id": "mjeCJsQWbQ80"
   },
   "source": [
    "Hàm logit nhận giá trị đầu vào trong (0, 1) và biến đổi chúng thành các giá trị trên toàn bộ phạm vi số thực $(-\\infty, +\\infty)$, mà chúng ta có thể sử dụng để biểu thị mối quan hệ giữa sự kết hợp tuyến tính các feature $z = (w^T.x)$ và xác suất xảy ra $(p)$:\n",
    "\n",
    "$$Logit(p(y = 1 |x)) = w^T.x$$\n",
    "$$\\Leftrightarrow \\ln{\\frac{p}{1-p}} = z$$\n",
    "$$\\Leftrightarrow \\frac{p}{1 - p} = e^{z} $$\n",
    "$$\\Leftrightarrow p = e^z(1 - p) $$\n",
    "$$\\Leftrightarrow p = e^z - e^zp $$\n",
    "$$\\Leftrightarrow e^z = p + e^zp $$\n",
    "$$\\Leftrightarrow e^z = p(1 + e^z) $$\n",
    "$$\\Leftrightarrow p = \\frac{e^z}{1 + e^z} = \\frac{1}{e^{-z}(1 + e^z)} = \\frac{1}{1 + e^{-z}}$$\n",
    "\n",
    "Như vậy ta đặt $\\phi{(z)} = \\frac{1}{1 + e^{-z}}$ là activation function của Logistis regression. Có thể nói [sigmoid](https://en.wikipedia.org/wiki/Sigmoid_function) xuất phát từ một khái niệm trong thống kê, nên việc sử dụng nó để ánh xạ từ $z = (w^T.x)$ đến xác suất là có cơ sở."
   ]
  },
  {
   "cell_type": "markdown",
   "metadata": {
    "colab_type": "text",
    "id": "UKUnNvTWGBIh"
   },
   "source": [
    "<br>\n",
    "<br>"
   ]
  },
  {
   "cell_type": "markdown",
   "metadata": {
    "colab_type": "text",
    "id": "4fhNL65VGBIi"
   },
   "source": [
    "### 2.2 Lost function"
   ]
  },
  {
   "cell_type": "markdown",
   "metadata": {
    "colab_type": "text",
    "id": "RTgeDPXhpjeM"
   },
   "source": [
    "Nếu như MSE là phương pháp được sử dụng để ước tính các tham số trong logistic regression thì Logistic regression sử dụng **maximun likelihood**  để ước tính tham số w.\n",
    "\n",
    "- Xét N mẫu dữ liệu được gán nhãn 0 hoặc 1:\n",
    "    - Với mẫu dữ liệu được gán nhãn 1: chúng ta muốn ước tính tham số W sao cho giá trị đầu ra $\\phi{(z)}$ gần với xác suất là 1 nhất có thể.\n",
    "    - Với mẫu dữ liệu được gán nhãn 0: chúng ta muốn ước tính tham số W sao cho giá trị đầu ra $1 - \\phi{(z)}$ gần với xác suất là 1 nhất có thể.\n",
    "- Tóm lại:\n",
    "    - Với tất cả mẫu có nhãn 1, chúng ta muốn ước tính $\\hat{y}$ sao cho tích của tất cả xác suất có điền kiệu của các mẫu này sao cho gần 1 nhất có thể. Nghĩa là cần maximize $\\prod_{ i \\in \\{y = 1\\}} \\phi{(z^{(i)})}$ (1)\n",
    "    - Tương tự với tất cả mẫu có nhãn 0, ta cần maximize $\\prod_{ i \\in \\{y = 0\\}} 1 - \\phi{(z^{(i)})}$ (2)\n",
    "- Kết hợp (1) và (2) ta muốn ước tính W sao cho maximize hàm $$L(w) = \\prod_{ i \\in \\{y = 1\\}} \\phi{(z^{(i)})} \\times \\prod_{ i \\in \\{y = 0\\}} 1 - \\phi{(z^{(i)})}$$ cho toàn bộ dataset.\n",
    "\n",
    "$$L(w) = \\prod_{ i \\in \\{y = 1\\}} \\phi{(z^{(i)})} \\times \\prod_{ i \\in \\{y = 0\\}} 1 - \\phi{(z^{(i)})} = \\prod_i^n {\\phi{(z^{(i)})}}^{y^{(i)}} \\times (1 - \\phi{(z^{(i)})}) ^{1 - y^{(i)}} $$ gọi là **likelihood function**\n"
   ]
  },
  {
   "cell_type": "markdown",
   "metadata": {
    "colab_type": "text",
    "id": "UMECyUZrWlf6"
   },
   "source": [
    "Trong thực thế, maximize logarit cơ số e của hàm này dễ dàng hơn.\n",
    "\n",
    "**log-likelihood function**: $$l(w) = \\log{L(w)} = \\sum_{i = 1}^n [ y^{(i)}\\log{({\\phi{(z^{(i)})}})} + (1 - y^{(i)})\\log{(1 - \\phi{(z^{(i)})})}]$$\n",
    "- Sử dụng log để giảm thiểu khả năng xảy ra lỗi *numberical underflow*, có thể xảy ra khi hàm likelihood quá nhỏ $~ 10^{-123}$.\n",
    "- Log còn dùng để chuyển đổi dấu $\\times$ thành $+$ điều này làm cho việc đạo hàm dễ dàng hơn."
   ]
  },
  {
   "cell_type": "markdown",
   "metadata": {
    "colab_type": "text",
    "id": "zsrRT-t63J4X"
   },
   "source": [
    "Bây giờ có thể sử dụng Gradient Descent để maximize log-likelihood function hay minimize nó khi viết dưới dạng *cost function*:\n",
    "$$J(W) = \\sum_{i = 1}^n [- y^{(i)}\\log{({\\phi{(z^{(i)})}})} - (1 - y^{(i)})\\log{(1 - \\phi{(z^{(i)})})}]$$\n",
    "\n",
    "*Cost function* một mẫu dữ liệu: \n",
    "$$j(w) = - y\\log{({\\phi{(z)}})} - (1 - y)\\log{(1 - \\phi{(z)})}$$"
   ]
  },
  {
   "cell_type": "markdown",
   "metadata": {
    "colab_type": "text",
    "id": "m_jjaPTF74fX"
   },
   "source": [
    "Để tính toán Gradient Descent của cost function, chúng ta cần tính đạo hàm riêng của hàm chi phí theo $w$:\n",
    "\n",
    "$$\\frac{\\partial j(w)}{\\partial w} = - \\frac {\\partial}{\\partial w} [y\\log{({\\phi{(z)}})} + (1 - y)\\log{(1 - \\phi{(z)})}] $$\n",
    "\n",
    "$$=  -( y \\frac{1}{\\phi{(z)}} - (1 - y)\\frac{1}{1 - \\phi{(z)}}) \\frac {\\partial}{\\partial w} \\phi{(z)}  (1)$$\n",
    "\n",
    "Ta có: $$\\frac {\\partial}{\\partial w} \\phi{(z)}$$ \n",
    "$$= \\frac {\\partial}{\\partial w} \\frac{1}{1 + e^{-z}}$$\n",
    "\n",
    "$$= \\frac{e^{-z}}{(1 + e^{-z})^2}\\frac {\\partial}{\\partial w}z$$\n",
    "$$= \\frac{1}{1 + e^{-z}}\\frac{e^{-z}}{1 + e^{-z}} \\frac{\\partial}{\\partial w}z$$\n",
    "\n",
    "$$ = \\phi(z) (1 - \\frac{1}{1 + e^{-z}}) \\frac{\\partial}{\\partial w}z $$\n",
    "$$= \\phi(z) (1 - \\phi{(z)})x  (2)$$ \n",
    "\n",
    "Thay (2) vào (1) ta được:\n",
    "\n",
    "$$\\frac{\\partial j(w)}{\\partial w} =  -( y \\frac{1}{\\phi{(z)}} - (1 - y)\\frac{1}{1 - \\phi{(z)}}) \\phi(z) (1 - \\phi{(z)})x$$\n",
    "\n",
    "\n",
    "$$= - [y(1 - \\phi{z}) - (1 - y)\\phi{(z)}]x $$\n",
    "$$= (y - y \\phi{(z)} -\\phi{(z)} + y \\phi{(z)})x $$\n",
    "\n",
    "$$ = -(y - \\phi{(z)})x$$"
   ]
  },
  {
   "cell_type": "markdown",
   "metadata": {
    "colab_type": "text",
    "id": "Alt_FLbmFe6G"
   },
   "source": [
    "Từ đó suy ra đạo hàm riêng của toàn data set là:\n",
    "\n",
    "$$\\frac{\\partial}{\\partial W}J(W) = -\\sum_{i = 1}^n (y^{(i)} - \\phi{(z^{(i)})})x^{(i)} = \\nabla{J(W)}$$\n",
    "\n",
    "Sử dụng GD, chúng ta có thể update W theo cách đi ngược chiều Gradient,$ \\nabla{J(W)}$, của cost function $J(W)$:\n",
    "\n",
    "$$W = W + \\bigtriangleup{W}$$\n",
    "Với $\\bigtriangleup{W} = - \\eta \\nabla{J(W)}  = - \\eta [-\\sum_{i = 1}^n (y^{(i)} - \\phi{(z^{(i)})})]$\n",
    "\n",
    "$= \\eta \\sum_{i = 1}^n (y^{(i)} - \\phi{(z^{(i)})})$\n",
    "\n"
   ]
  },
  {
   "cell_type": "markdown",
   "metadata": {
    "colab_type": "text",
    "id": "pz6zCJ4TGBIo"
   },
   "source": [
    "<br>\n",
    "<br>"
   ]
  },
  {
   "cell_type": "markdown",
   "metadata": {},
   "source": [
    "## 3. Demo đơn giản"
   ]
  },
  {
   "cell_type": "markdown",
   "metadata": {},
   "source": [
    "Sử dụng logistic regression trong scikit learn để hiện thực hoá một mô hình đơn giản"
   ]
  },
  {
   "cell_type": "code",
   "execution_count": 17,
   "metadata": {
    "colab": {
     "base_uri": "https://localhost:8080/",
     "height": 297
    },
    "colab_type": "code",
    "executionInfo": {
     "elapsed": 45728,
     "status": "ok",
     "timestamp": 1585814587574,
     "user": {
      "displayName": "Duy Nguyễn",
      "photoUrl": "https://lh3.googleusercontent.com/a-/AOh14GiGaUv_xpTT53g1CWtiXl_PQ5E86LhgAenJ_rQvqQ=s64",
      "userId": "01595127847774685510"
     },
     "user_tz": -420
    },
    "id": "p6lwlrhyGBIp",
    "outputId": "8940ab20-d145-4280-c83c-3ec1bd29e0c4"
   },
   "outputs": [],
   "source": [
    "# Chuẩn bị dữ liệu\n",
    "from sklearn import datasets\n",
    "from sklearn.model_selection import train_test_split\n",
    "from sklearn.preprocessing import StandardScaler\n",
    "\n",
    "iris = datasets.load_iris()\n",
    "X = iris.data[:, [2, 3]]\n",
    "y = iris.target\n",
    "\n",
    "X = X[(y == 0) | (y == 1)]\n",
    "y = y[(y == 0) | (y == 1)]\n",
    "\n",
    "# Chia dữ liệu thành tập train và tập test\n",
    "X_train, X_test, y_train, y_test = train_test_split(X, y, test_size=0.3, random_state=1, stratify=y)\n",
    "\n",
    "# Chuẩn hoá dữ liệu\n",
    "sc = StandardScaler()\n",
    "sc.fit(X_train)\n",
    "X_train_std = sc.transform(X_train)\n",
    "X_test_std = sc.transform(X_test)"
   ]
  },
  {
   "cell_type": "code",
   "execution_count": 18,
   "metadata": {
    "colab": {
     "base_uri": "https://localhost:8080/",
     "height": 335
    },
    "colab_type": "code",
    "executionInfo": {
     "elapsed": 47541,
     "status": "ok",
     "timestamp": 1585814589423,
     "user": {
      "displayName": "Duy Nguyễn",
      "photoUrl": "https://lh3.googleusercontent.com/a-/AOh14GiGaUv_xpTT53g1CWtiXl_PQ5E86LhgAenJ_rQvqQ=s64",
      "userId": "01595127847774685510"
     },
     "user_tz": -420
    },
    "id": "YtJZ0OEFGBIs",
    "outputId": "439e1858-1114-46d0-835e-7f166b068c16"
   },
   "outputs": [
    {
     "data": {
      "text/plain": [
       "LogisticRegression(C=100.0, class_weight=None, dual=False, fit_intercept=True,\n",
       "                   intercept_scaling=1, l1_ratio=None, max_iter=100,\n",
       "                   multi_class='ovr', n_jobs=None, penalty='l2', random_state=1,\n",
       "                   solver='lbfgs', tol=0.0001, verbose=0, warm_start=False)"
      ]
     },
     "execution_count": 18,
     "metadata": {},
     "output_type": "execute_result"
    }
   ],
   "source": [
    "# Training\n",
    "from sklearn.linear_model import LogisticRegression\n",
    "\n",
    "lr = LogisticRegression(C=100.0, random_state=1, solver = 'lbfgs', multi_class = 'ovr')\n",
    "lr.fit(X_train_std, y_train)\n"
   ]
  },
  {
   "cell_type": "code",
   "execution_count": 19,
   "metadata": {
    "colab": {
     "base_uri": "https://localhost:8080/",
     "height": 69
    },
    "colab_type": "code",
    "executionInfo": {
     "elapsed": 47479,
     "status": "ok",
     "timestamp": 1585814589426,
     "user": {
      "displayName": "Duy Nguyễn",
      "photoUrl": "https://lh3.googleusercontent.com/a-/AOh14GiGaUv_xpTT53g1CWtiXl_PQ5E86LhgAenJ_rQvqQ=s64",
      "userId": "01595127847774685510"
     },
     "user_tz": -420
    },
    "id": "SyNrO6MnGBIv",
    "outputId": "aaa76ea0-336d-4fbc-8e17-dac43b8f3f56"
   },
   "outputs": [
    {
     "data": {
      "text/plain": [
       "array([[6.51066243e-06, 9.99993489e-01],\n",
       "       [1.65395910e-02, 9.83460409e-01],\n",
       "       [9.99858089e-01, 1.41911339e-04]])"
      ]
     },
     "execution_count": 19,
     "metadata": {},
     "output_type": "execute_result"
    }
   ],
   "source": [
    "# Dự đoán xác suất nhãn của từng điểm dữ liệu (hàng)\n",
    "lr.predict_proba(X_test_std[:3, :])"
   ]
  },
  {
   "cell_type": "code",
   "execution_count": 20,
   "metadata": {
    "colab": {
     "base_uri": "https://localhost:8080/",
     "height": 35
    },
    "colab_type": "code",
    "executionInfo": {
     "elapsed": 47411,
     "status": "ok",
     "timestamp": 1585814589430,
     "user": {
      "displayName": "Duy Nguyễn",
      "photoUrl": "https://lh3.googleusercontent.com/a-/AOh14GiGaUv_xpTT53g1CWtiXl_PQ5E86LhgAenJ_rQvqQ=s64",
      "userId": "01595127847774685510"
     },
     "user_tz": -420
    },
    "id": "-vAWeLo0GBI9",
    "outputId": "5e599540-ded1-44a4-c91d-75c393f5cd98"
   },
   "outputs": [
    {
     "data": {
      "text/plain": [
       "array([1, 1, 0])"
      ]
     },
     "execution_count": 20,
     "metadata": {},
     "output_type": "execute_result"
    }
   ],
   "source": [
    "# Dự đoán nhãn thuộc lớp 0 hay 1ớp\n",
    "lr.predict(X_test_std[:3, :])"
   ]
  },
  {
   "cell_type": "code",
   "execution_count": 21,
   "metadata": {},
   "outputs": [
    {
     "name": "stdout",
     "output_type": "stream",
     "text": [
      "Accuracy: 1.000\n"
     ]
    }
   ],
   "source": [
    "print('Accuracy: %.3f' % lr.score(X_test_std, y_test))"
   ]
  },
  {
   "cell_type": "markdown",
   "metadata": {
    "colab_type": "text",
    "id": "2qmRlQNWGBJB"
   },
   "source": [
    "<br>\n",
    "<br>"
   ]
  },
  {
   "cell_type": "markdown",
   "metadata": {},
   "source": [
    "## 4. Hạn chế"
   ]
  },
  {
   "cell_type": "markdown",
   "metadata": {},
   "source": [
    "- Giới hạn về kết quả đầu ra: Hồi quy logistic hoạt động tốt để dự đoán kết quả phân lớp như bệnh hay không bệnh . Nó còn có thể dự đoán với dữ liệu có hơn 2 lớp bằng cách sử dụng các kỹ thuật như: OvR (One vs the Rest). Tuy nhiên, hồi quy logistic không hoạt động với dữ liệu có đầu ra liên tục như giá nhà, nhiệt độ,...\n",
    "- Yêu cầu các điểm dữ liệu là độc lập, nhưng trên thực tế thì các điểm dữ liệu có thể bị ảnh hưởng bởi nhau. Do đó, người ta thưởng giả định về sự độc lập giữa các điểm dữ liệu khi mô hình hoá hồi quy logistic."
   ]
  },
  {
   "cell_type": "markdown",
   "metadata": {},
   "source": [
    "## 5. Tài liệu tham khảo"
   ]
  },
  {
   "cell_type": "markdown",
   "metadata": {},
   "source": [
    "$^{[1]}$ [Wikipedia](https://en.wikipedia.org/wiki/Logistic_regression)\n",
    "\n",
    "$^{[2]}$ [Theanalysisfactor.com](https://www.theanalysisfactor.com/why-use-odds-ratios/)\n",
    "\n",
    "$^{[3]}$ [Theanalysisfactor.com](https://www.theanalysisfactor.com/understanding-odds-and-probability/)\n",
    "\n",
    "$^{[4]}$ [theclassroom.com](https://www.theclassroom.com/disadvantages-logistic-regression-8574447.html)\n",
    "\n",
    "$^{[5]}$ [Python Machine Learning - Machine Learning and Deep Learning with Python, scikit-learn, and TensorFlow 2, 3rd Edition, Sebastian Raschka, Vahid Mirjalili, Packt Publishing (2019)](https://www.packtpub.com/data/python-machine-learning-third-edition)"
   ]
  }
 ],
 "metadata": {
  "anaconda-cloud": {},
  "colab": {
   "collapsed_sections": [],
   "name": "ch03 - Copy.ipynb",
   "provenance": []
  },
  "kernelspec": {
   "display_name": "Python 3",
   "language": "python",
   "name": "python3"
  },
  "language_info": {
   "codemirror_mode": {
    "name": "ipython",
    "version": 3
   },
   "file_extension": ".py",
   "mimetype": "text/x-python",
   "name": "python",
   "nbconvert_exporter": "python",
   "pygments_lexer": "ipython3",
   "version": "3.6.4"
  },
  "toc": {
   "nav_menu": {},
   "number_sections": true,
   "sideBar": true,
   "skip_h1_title": false,
   "title_cell": "Table of Contents",
   "title_sidebar": "Contents",
   "toc_cell": false,
   "toc_position": {},
   "toc_section_display": true,
   "toc_window_display": false
  }
 },
 "nbformat": 4,
 "nbformat_minor": 1
}
