{
 "cells": [
  {
   "cell_type": "markdown",
   "metadata": {
    "colab_type": "text",
    "id": "8dLJiEqkEiEc"
   },
   "source": [
    "# <center>Principal Component Analysis (PCA)</center>"
   ]
  },
  {
   "cell_type": "markdown",
   "metadata": {
    "colab_type": "text",
    "id": "XVHiuiN4EiEd"
   },
   "source": [
    "- [1. Giới thiệu](#1.-Giới-thiệu)\n",
    "    - [1.1 Giới thiệu về PCA](#1.1-Giới-thiệu-về-PCA)\n",
    "    - [1.2 Cở sở toán học](#1.2-Cở-sở-toán-học)\n",
    "- [2. Thuật toán PCA](#2.-Thuật-toán-PCA)\n",
    "    - [2.1 PCA là gì?](#2.1-PCA-là-gì?)\n",
    "    - [2.2 Các bước của thuật toán PCA](#2.2-Các-bước-của-thuật-toán-PCA)\n",
    "- [3. Demo đơn giản](#3.-Demo-đơn-giản)\n",
    "- [4. Kết luận](#4.-Kết-luận)\n",
    "    - [4.1 Ưu điểm của PCA](#4.1-Ưu-điểm-của-PCA)\n",
    "    - [4.2 Nhược điểm của PCA](#4.2-Nhược-điểm-của-PCA)\n",
    "- [5. Tài liệu tham khảo](#5.-Tài-liệu-tham-khảo)"
   ]
  },
  {
   "cell_type": "markdown",
   "metadata": {
    "colab_type": "text",
    "id": "Mud6OoypEiEe"
   },
   "source": [
    "# 1. Giới thiệu"
   ]
  },
  {
   "cell_type": "markdown",
   "metadata": {
    "colab_type": "text",
    "id": "yFYZHer2EiEf"
   },
   "source": [
    "Với thời đại dữ liệu bùng nổ như ngày nay, dữ liệu ta thu thập được rất lớn. Trong thực tế, các **vector đặc trưng** (*feature vectors*) có thể có số chiều rất lớn, tới vài nghìn. Đồng thời, lượng điểm dữ liệu cũng rất lớn. Điều đó sẽ gây khó khăn cho việc lưu trữ và tính toán. Vì vậy, một trong những bước quan trọng trong nhiều bài toán học máy là ta phải **giảm chiều dữ liệu** (*dimentionality reduction*)."
   ]
  },
  {
   "cell_type": "markdown",
   "metadata": {
    "colab_type": "text",
    "id": "P7wxyzfgEiEg"
   },
   "source": [
    "**Giảm chiều dữ liệu** còn là phương pháp được sử dụng để giảm vấn đề **quá khớp** (*overfitting*),nó có hai hướng là hướng **lựa chọn đặc trưng** (*feature selection*) và hướng **trích xuất đặc trưng** (*feature extraction*). Hôm nay ta sẽ tìm hiểu về một thuật toán theo hướng **trích xuất đặc trưng** là Principal Component Analysis (PCA)."
   ]
  },
  {
   "cell_type": "markdown",
   "metadata": {
    "colab_type": "text",
    "id": "oCXgoL4ZEiEh"
   },
   "source": [
    "## 1.1 Giới thiệu về PCA"
   ]
  },
  {
   "cell_type": "markdown",
   "metadata": {
    "colab_type": "text",
    "id": "dwOPqa_lEiEh"
   },
   "source": [
    "![](https://github.com/HuynhHoa99/MachineLearningAlgorithm/blob/master/image/pca1.PNG?raw=true)\n",
    "\n",
    "Cùng là 1 chú lạc đà, tuy nhiên với các góc nhìn khác nhau (trục thông tin), chúng ta có những cách thu nhận thông tin khác nhau và cho ta những kết luận khác nhau."
   ]
  },
  {
   "cell_type": "markdown",
   "metadata": {
    "colab_type": "text",
    "id": "Yu2jzL6wEiEi"
   },
   "source": [
    "PCA là thuật toán tìm một không gian mới (với số chiều nhỏ hơn không gian cũ), các trục tọa độ trong không gian mới được xây dựng sao cho trên mỗi trục, độ biến thiên của dữ liệu trên đó là lớn nhất có thể.\n",
    "\n",
    "Ví dụ minh họa:\n",
    "\n",
    "![](https://github.com/HuynhHoa99/MachineLearningAlgorithm/blob/master/image/pca2.PNG?raw=true)"
   ]
  },
  {
   "cell_type": "markdown",
   "metadata": {
    "colab_type": "text",
    "id": "d2keE2L1EiEj"
   },
   "source": [
    "## 1.2 Cở sở toán học"
   ]
  },
  {
   "cell_type": "markdown",
   "metadata": {
    "colab_type": "text",
    "id": "SSCNtH7NEiEk"
   },
   "source": [
    "##### Kỳ vọng (mean)\n",
    "- Là giá trị mong muốn, nó đơn giản là trung bình cộng của toàn bộ các giá trị\n",
    "\n",
    "Cho $N$ giá trị $x_1, x_2, ..., x_N$.\n",
    "\n",
    "$$\\bar{x} = \\frac{1}{N} \\sum_{i=1}^{N}x_i$$\n",
    "\n",
    "\n",
    "##### Phương sai (variance)\n",
    "- Là trung bình cộng của bình phương khoảng cách từ mỗi điểm tới kỳ vọng, phương sai càng nhỏ thì các điểm dữ liệu càng gần với kỳ vọng, tức các điểm dữ liệu càng giống nhau. Phương sai càng lớn thì ta nói dữ liệu càng có tính phân tán\n",
    "\n",
    "$$\\sigma^2 = \\frac{1}{N-1} \\sum_{i=1}^{N}(x_i-\\bar{x})^2$$\n",
    "\n",
    "\n",
    "##### Hiệp phương sai (covariance)\n",
    "- Là độ đo sự biến thiên cùng nhau của hai biến ngẫu nhiên (phân biệt với phương sai - đo mức độ biến thiên của một biến). Nếu 2 biến có xu hướng thay đổi cùng nhau (nghĩa là, khi một biến có giá trị cao hơn giá trị kỳ vọng thì biến kia có xu hướng cũng cao hơn giá trị kỳ vọng), thì hiệp phương sai giữa hai biến này có giá trị dương. Mặt khác, nếu một biến nằm trên giá trị kỳ vọng còn biến kia có xu hướng nằm dưới giá trị kỳ vọng, thì hiệp phương sai của hai biến này có giá trị âm. Nếu hai biến này độc lập với nhau thì giá trị bằng 0\n",
    "\n",
    "$$COV(X, Y) = \\frac{\\sum_{i=1}^{N}(X_i - \\bar{X})(Y_i - \\bar{Y})}{N}$$\n",
    "\n",
    "##### Ma trận hiệp phương sai\n",
    "- Cho N điểm dữ liệu được biểu diễn bởi các vector cột $x_1, ..., x_N$, khi đó, vector kỳ vọng và ma trận hiệp phương sai của toàn bộ dữ liệu được định nghĩa là:\n",
    "\n",
    "$$\\bar{x} = \\frac{1}{N} \\sum_{i=1}^{N}x_i$$\n",
    "\n",
    "$$S = \\frac{1}{N} \\sum_{i=1}^{N}(x_i - \\bar{x})(x_i - \\bar{x})^T = \\frac{1}{N}\\hat{X}\\hat{X}^T$$\n",
    "\n",
    "- Ma trận hiệp phương sai là một ma trận đối xứng, hơn nữa, nó là một ma trận nửa xác định dương.\n",
    "- Mọi phần tử trên đường chéo của ma trận hiệp phương sai là các số không âm. Chúng cũng chính là phương sai của từng chiều của dữ liệu.\n",
    "- Các phần tử ngoài đường chéo $S_{ij}, i \\ne j$ thể hiện sự tương quan giữa thành phần thứ i và thứ j của dữ liệu, còn được gọi là hiệp phương sai. Giá trị này có thể dương, âm hoặc bằng 0. Khi nó bằng 0, ta nói rằng hai thành phần i, j trong dữ liệu là không tương quan (*uncorrelated*).\n",
    "- Nếu ma trận hiệp phương sai là ma trận đường chéo, ta có dữ liệu hoàn toàn không tương quan giữa các chiều.\n",
    "\n",
    "Minh hoạ ma trận hiệp phương sai:\n",
    "$$S = \\begin{bmatrix}{var(x)} & {cov(x,y)} \\\\ {cov(y,x)} & {var(y)} \\end{bmatrix}$$\n",
    "\n",
    "##### Trị riêng (*eigenvalue*), vector riêng(*eigenvector*) của covariance matrix\n",
    "Cho một ma trận vuông $A \\in R^{n \\times n}$, nếu số vô hướng $\\lambda$ và vector $x \\ne 0 \\in R^n$ thoả mãn:\n",
    "\n",
    "$$Ax = \\lambda x$$\n",
    "\n",
    "thì $\\lambda$ được gọi là một trị riêng của $A$ và $x$ được gọi là vector riêng tương ứng với trị riêng đó.\n",
    "\n",
    "- Trị riêng là nghiệm của phương trình đặc trưng $$det(A - \\lambda I) = 0$$\n",
    "- Một trị riêng có thể có nhiều vector riêng\n",
    "- Mỗi vector riêng chỉ ứng với một trị riêng duy nhất\n",
    "- Nếu $x$ là một vector riêng của A ứng với $\\lambda$ thì $kx, k \\ne 0$ cũng là vector riêng ứng với trị riêng đó\n",
    "- Mọi ma trận vuông bậc n đều có n trị riêng (kể cả lặp) và có thể là các số phức.\n",
    "- Với ma trận đối xứng, tất cả các trị riêng đều là các số thực.\n",
    "- Với ma trận xác định dương, tất cả các trị riêng của nó đều là các số thực dương. Với ma trận nửa xác định dương, tất cả các trị riêng của nó đều là các số thực không âm.\n",
    "\n",
    "##### Phương pháp giải tìm trị riêng, vector riêng\n",
    "B1: giải phương trình đặc trưng để tìm trị riêng: $$det(A - \\lambda I) = 0$$\n",
    "\n",
    "B2: giải hệ phương trình tìm vector riêng $u_i$ tương ứng với trị riêng $\\lambda_i$ $$(A - \\lambda I)u = 0$$"
   ]
  },
  {
   "cell_type": "markdown",
   "metadata": {
    "colab_type": "text",
    "id": "iHUhe9hgEiEl"
   },
   "source": [
    "# 2. Thuật toán PCA"
   ]
  },
  {
   "cell_type": "markdown",
   "metadata": {
    "colab_type": "text",
    "id": "b_oBzFgTEiEl"
   },
   "source": [
    "## 2.1 PCA là gì?"
   ]
  },
  {
   "cell_type": "markdown",
   "metadata": {
    "colab_type": "text",
    "id": "7N9YLInnEiEm"
   },
   "source": [
    "PCA về cơ bản là một kỹ thuật giảm kích thước đơn giản, biến đổi các cột của bộ dữ liệu thành một tập các đặc trưng mới. Nó thực hiện điều này bằng cách tìm một tập hợp các hướng mới (như trục X và Y) giải thích sự biến đổi tối đa trong dữ liệu, tức là hướng đó ta tìm được maximum của variance.\n",
    "\n",
    "Tại sao lại là maximum của variance? \n",
    "\n",
    "Như ta có thể thấy, variance thể hiện độ phân tán của dữ liệu, khi variance lớn thì độ phân tán lớn và ngược lại. Mà thuật toán là muốn lấy tối đa các thông tin, nên nó sẽ lấy theo hướng variance lớn, dữ liệu sẽ có độ biến thiên cao, mang lại nhiều thông tin. \n",
    "\n",
    "Trục tọa độ hệ thống mới này được gọi là Principal Components (PCs). Các phép chiếu của dữ liệu gốc trên bộ trục tọa độ (PC) mới đóng vai trò là bộ dữ liệu được chuyển đổi mới.\n",
    "\n",
    "Nhưng tại sao lại tính toán PCs?\n",
    "\n",
    "Vì thông tin chứa trong một cột dữ liệu tỉ lệ thuận với lượng phương sai của nó. Tương tự, các PCs có lượng phương sai lớn sẽ mang lại nhiều thông tin và từ đó ta có thể  chọn các PCs chứa nhiều thông tin nhất."
   ]
  },
  {
   "cell_type": "markdown",
   "metadata": {
    "colab_type": "text",
    "id": "f1Cxb4zqEiEn"
   },
   "source": [
    "## 2.2 Các bước của thuật toán PCA"
   ]
  },
  {
   "cell_type": "markdown",
   "metadata": {
    "colab_type": "text",
    "id": "fJ2mzP5QEiEo"
   },
   "source": [
    "##### 1. Chuẩn hóa tập dữ liệu d chiều\n",
    "##### 2. Tìm ma trận hiệp phương sai (*covariance matrix*)\n",
    "$$S =  \\frac{1}{N}\\hat{X}\\hat{X}^T$$\n",
    "\n",
    "##### 3. Tìm các trị riêng ($\\lambda$) và vector riêng ($u$) của ma trận này, sắp xếp chúng theo thứ tự giảm dần của trị riêng.\n",
    "$$\\lambda_1 \\ge \\lambda_2 \\ge ... \\ge \\lambda_n$$\n",
    "$$u_1, u_2, ..., u_n$$\n",
    "\n",
    "- Các vector $u_i$ là độc lập tuyến tính, và chính là các trục của không gian mới\n",
    "\n",
    "##### 4. Chọn $K$ vector riêng (PCs) ứng với $K$ trị riêng lớn nhất để xây dựng ma trận $U$. \n",
    "\n",
    "##### 5. Xây dựng ma trận chiếu (*projection matrix*) $U$.\n",
    "##### 6. Chiếu dữ liệu ban đầu đã chuẩn hoá $\\hat{X}$ thông qua $U$ để tạo thành không gian đặc trưng mới K chiều. Dữ liệu mới chính là toạ độ của các điểm dữ liệu trên không gian mới $$Z = U^T\\hat X$$"
   ]
  },
  {
   "cell_type": "markdown",
   "metadata": {
    "colab_type": "text",
    "id": "CbG2zubzEiEo"
   },
   "source": [
    "![](https://github.com/HuynhHoa99/MachineLearningAlgorithm/blob/master/image/pca4.PNG?raw=true)"
   ]
  },
  {
   "cell_type": "markdown",
   "metadata": {
    "colab_type": "text",
    "id": "RYSAbIhuEiEp"
   },
   "source": [
    "# 3. Demo đơn giản"
   ]
  },
  {
   "cell_type": "code",
   "execution_count": 1,
   "metadata": {
    "colab": {},
    "colab_type": "code",
    "id": "rIH5t3CEEiEq"
   },
   "outputs": [],
   "source": [
    "import pandas as pd\n",
    "import numpy as np\n",
    "import matplotlib.pyplot as plt\n",
    "from sklearn.model_selection import train_test_split\n",
    "from sklearn.preprocessing import StandardScaler"
   ]
  },
  {
   "cell_type": "code",
   "execution_count": 2,
   "metadata": {
    "colab": {},
    "colab_type": "code",
    "id": "5WsGAOXSEiEu"
   },
   "outputs": [],
   "source": [
    "# Load data\n",
    "df_wine = pd.read_csv('https://archive.ics.uci.edu/ml/machine-learning-databases/wine/wine.data', header=None)"
   ]
  },
  {
   "cell_type": "code",
   "execution_count": 3,
   "metadata": {
    "colab": {},
    "colab_type": "code",
    "id": "Wh3tP8rxEiE0"
   },
   "outputs": [],
   "source": [
    "# create train set and test set\n",
    "X, y = df_wine.iloc[:, 1:].values, df_wine.iloc[:, 0].values\n",
    "X_train, X_test, y_train, y_test = train_test_split(X, y, test_size=0.3, stratify=y, random_state=0)"
   ]
  },
  {
   "cell_type": "code",
   "execution_count": 4,
   "metadata": {
    "colab": {},
    "colab_type": "code",
    "id": "e97477sOEiE3"
   },
   "outputs": [],
   "source": [
    "# standardize the features\n",
    "sc = StandardScaler()\n",
    "X_train_std = sc.fit_transform(X_train)\n",
    "X_test_std = sc.transform(X_test)"
   ]
  },
  {
   "cell_type": "code",
   "execution_count": 5,
   "metadata": {
    "colab": {
     "base_uri": "https://localhost:8080/",
     "height": 102
    },
    "colab_type": "code",
    "executionInfo": {
     "elapsed": 1879,
     "status": "ok",
     "timestamp": 1592214558236,
     "user": {
      "displayName": "Duy Nguyễn",
      "photoUrl": "https://lh3.googleusercontent.com/a-/AOh14GiGaUv_xpTT53g1CWtiXl_PQ5E86LhgAenJ_rQvqQ=s64",
      "userId": "01595127847774685510"
     },
     "user_tz": -480
    },
    "id": "pFE5i0rDEiE8",
    "outputId": "79e3480a-f118-4d17-f3eb-c0875767ec3e"
   },
   "outputs": [
    {
     "name": "stdout",
     "output_type": "stream",
     "text": [
      "\n",
      "Eigenvalues \n",
      "[4.84274532 2.41602459 1.54845825 0.96120438 0.84166161 0.6620634\n",
      " 0.51828472 0.34650377 0.3131368  0.10754642 0.21357215 0.15362835\n",
      " 0.1808613 ]\n"
     ]
    }
   ],
   "source": [
    "# Compute eigenvalue and eigenvector of covarian matrix\n",
    "cov_mat = np.cov(X_train_std.T)\n",
    "eigen_vals, eigen_vecs = np.linalg.eig(cov_mat)\n",
    "print('\\nEigenvalues \\n%s' % eigen_vals)"
   ]
  },
  {
   "cell_type": "markdown",
   "metadata": {
    "colab_type": "text",
    "id": "ZvZ1DkzsEiFB"
   },
   "source": [
    "Trước khi đi tới bước chọn K vector riêng, ta sẽ vẽ một biểu đồ thể hiện tỉ lệ phương sai (*variance ratios*) của trị riêng. Công thức của nó là: $$\\text{variance ratio} = \\frac{\\lambda_i}{\\sum_{i=1}^n \\lambda_i}$$"
   ]
  },
  {
   "cell_type": "code",
   "execution_count": 6,
   "metadata": {
    "colab": {
     "base_uri": "https://localhost:8080/",
     "height": 297
    },
    "colab_type": "code",
    "executionInfo": {
     "elapsed": 1870,
     "status": "ok",
     "timestamp": 1592214558238,
     "user": {
      "displayName": "Duy Nguyễn",
      "photoUrl": "https://lh3.googleusercontent.com/a-/AOh14GiGaUv_xpTT53g1CWtiXl_PQ5E86LhgAenJ_rQvqQ=s64",
      "userId": "01595127847774685510"
     },
     "user_tz": -480
    },
    "id": "Hf1u93QmEiFC",
    "outputId": "1ef0f077-fb40-4ffc-effa-4dd87f03a234"
   },
   "outputs": [
    {
     "data": {
      "image/png": "[encoded data removed]",
      "text/plain": [
       "<Figure size 432x288 with 1 Axes>"
      ]
     },
     "metadata": {
      "needs_background": "light"
     },
     "output_type": "display_data"
    }
   ],
   "source": [
    "tot = sum(eigen_vals)\n",
    "var_exp = [(i / tot) for i in\n",
    "sorted(eigen_vals, reverse=True)]\n",
    "cum_var_exp = np.cumsum(var_exp)\n",
    "\n",
    "plt.bar(range(1,14), var_exp, alpha=0.5, align='center',\n",
    "label='Individual explained variance')\n",
    "plt.step(range(1,14), cum_var_exp, where='mid',\n",
    "label='Cumulative explained variance')\n",
    "plt.ylabel('Explained variance ratio')\n",
    "plt.xlabel('Principal component index')\n",
    "plt.legend(loc='best')\n",
    "plt.tight_layout()\n",
    "plt.show()"
   ]
  },
  {
   "cell_type": "markdown",
   "metadata": {
    "colab_type": "text",
    "id": "8opSvWXZEiFF"
   },
   "source": [
    "Như ta có thể thấy, chỉ với 2 principal component đầu đã chiếm khoảng gần 60% lượng thông tin."
   ]
  },
  {
   "cell_type": "code",
   "execution_count": 7,
   "metadata": {
    "colab": {},
    "colab_type": "code",
    "id": "fFEqCBZ4EiFG"
   },
   "outputs": [],
   "source": [
    "# Make a list of (eigenvalue, eigenvector) tuples\n",
    "eigen_pairs = [(np.abs(eigen_vals[i]), eigen_vecs[:, i]) for i in range(len(eigen_vals))]\n",
    "# Sort the (eigenvalue, eigenvector) tuples from high to low\n",
    "eigen_pairs.sort(key=lambda k: k[0], reverse=True)"
   ]
  },
  {
   "cell_type": "code",
   "execution_count": 8,
   "metadata": {
    "colab": {
     "base_uri": "https://localhost:8080/",
     "height": 255
    },
    "colab_type": "code",
    "executionInfo": {
     "elapsed": 787,
     "status": "ok",
     "timestamp": 1592214746388,
     "user": {
      "displayName": "Duy Nguyễn",
      "photoUrl": "https://lh3.googleusercontent.com/a-/AOh14GiGaUv_xpTT53g1CWtiXl_PQ5E86LhgAenJ_rQvqQ=s64",
      "userId": "01595127847774685510"
     },
     "user_tz": -480
    },
    "id": "1acOC2kWEiFJ",
    "outputId": "a78d4af6-f5be-4a0c-dc37-b78271b48265"
   },
   "outputs": [
    {
     "name": "stdout",
     "output_type": "stream",
     "text": [
      "Matrix U:\n",
      " [[-0.13724218  0.50303478]\n",
      " [ 0.24724326  0.16487119]\n",
      " [-0.02545159  0.24456476]\n",
      " [ 0.20694508 -0.11352904]\n",
      " [-0.15436582  0.28974518]\n",
      " [-0.39376952  0.05080104]\n",
      " [-0.41735106 -0.02287338]\n",
      " [ 0.30572896  0.09048885]\n",
      " [-0.30668347  0.00835233]\n",
      " [ 0.07554066  0.54977581]\n",
      " [-0.32613263 -0.20716433]\n",
      " [-0.36861022 -0.24902536]\n",
      " [-0.29669651  0.38022942]]\n"
     ]
    }
   ],
   "source": [
    "U = np.hstack((eigen_pairs[0][1][:, np.newaxis], eigen_pairs[1][1][:, np.newaxis]))\n",
    "print('Matrix U:\\n', U)"
   ]
  },
  {
   "cell_type": "markdown",
   "metadata": {
    "colab_type": "text",
    "id": "2myJ4rRZEiFO"
   },
   "source": [
    "Matrix $U$ chính là ma trận giúp ta chuyển đổi dữ liệu D chiều sang K chiều với K $\\leq$ D\n",
    "- Vector: $x' = xU$\n",
    "- Matrix: $X' = XU$"
   ]
  },
  {
   "cell_type": "code",
   "execution_count": 9,
   "metadata": {
    "colab": {
     "base_uri": "https://localhost:8080/",
     "height": 34
    },
    "colab_type": "code",
    "executionInfo": {
     "elapsed": 819,
     "status": "ok",
     "timestamp": 1592214787569,
     "user": {
      "displayName": "Duy Nguyễn",
      "photoUrl": "https://lh3.googleusercontent.com/a-/AOh14GiGaUv_xpTT53g1CWtiXl_PQ5E86LhgAenJ_rQvqQ=s64",
      "userId": "01595127847774685510"
     },
     "user_tz": -480
    },
    "id": "h7VVi9ndEiFP",
    "outputId": "c8f66822-052e-4156-a9a8-3ede1802e5bb"
   },
   "outputs": [
    {
     "name": "stdout",
     "output_type": "stream",
     "text": [
      "Từ 13 chiều còn lại 2 chiều\n"
     ]
    }
   ],
   "source": [
    "x_origin = X_train_std[0].shape[0]\n",
    "x_new = X_train_std[0].dot(U).shape[0]\n",
    "print('Từ', x_origin, 'chiều còn lại', x_new, 'chiều')"
   ]
  },
  {
   "cell_type": "code",
   "execution_count": 10,
   "metadata": {
    "colab": {},
    "colab_type": "code",
    "id": "2HU4hIFaEiFT"
   },
   "outputs": [],
   "source": [
    "X_train_pca = X_train_std.dot(U)"
   ]
  },
  {
   "cell_type": "code",
   "execution_count": 11,
   "metadata": {
    "colab": {
     "base_uri": "https://localhost:8080/",
     "height": 34
    },
    "colab_type": "code",
    "executionInfo": {
     "elapsed": 786,
     "status": "ok",
     "timestamp": 1592214798293,
     "user": {
      "displayName": "Duy Nguyễn",
      "photoUrl": "https://lh3.googleusercontent.com/a-/AOh14GiGaUv_xpTT53g1CWtiXl_PQ5E86LhgAenJ_rQvqQ=s64",
      "userId": "01595127847774685510"
     },
     "user_tz": -480
    },
    "id": "78YIsd01EiFW",
    "outputId": "c10d16f3-8f9b-4c9a-b62e-bb5f668a8128"
   },
   "outputs": [
    {
     "name": "stdout",
     "output_type": "stream",
     "text": [
      "(124, 13) (124, 2)\n"
     ]
    }
   ],
   "source": [
    "print(X_train_std.shape, X_train_pca.shape)"
   ]
  },
  {
   "cell_type": "code",
   "execution_count": 12,
   "metadata": {
    "colab": {
     "base_uri": "https://localhost:8080/",
     "height": 297
    },
    "colab_type": "code",
    "executionInfo": {
     "elapsed": 886,
     "status": "ok",
     "timestamp": 1592214804098,
     "user": {
      "displayName": "Duy Nguyễn",
      "photoUrl": "https://lh3.googleusercontent.com/a-/AOh14GiGaUv_xpTT53g1CWtiXl_PQ5E86LhgAenJ_rQvqQ=s64",
      "userId": "01595127847774685510"
     },
     "user_tz": -480
    },
    "id": "6n20oSCcEiFZ",
    "outputId": "2945f54e-aab8-41f3-ce6e-c509cd37508b"
   },
   "outputs": [
    {
     "data": {
      "image/png": "[encoded data removed]",
      "text/plain": [
       "<Figure size 432x288 with 1 Axes>"
      ]
     },
     "metadata": {
      "needs_background": "light"
     },
     "output_type": "display_data"
    }
   ],
   "source": [
    "colors = ['r', 'b', 'g']\n",
    "markers = ['s', 'x', 'o']\n",
    "for l, c, m in zip(np.unique(y_train), colors, markers):\n",
    "    plt.scatter(X_train_pca[y_train==l, 0], X_train_pca[y_train==l, 1], c=c, label=l, marker=m)\n",
    "plt.xlabel('PC 1')\n",
    "plt.ylabel('PC 2')\n",
    "plt.legend(loc='lower left')\n",
    "plt.tight_layout()\n",
    "plt.show()"
   ]
  },
  {
   "cell_type": "markdown",
   "metadata": {
    "colab_type": "text",
    "id": "K7-ks_CZEiFe"
   },
   "source": [
    "- Dữ liệu được trải rộng hơn ở trục PC 1 - thành phần chính đầu tiên (the first principal component)\n",
    "- Dữ liệu được trải rộng it hơn ở trục PC 2 - thành phần chính thứ hai (the second principal component)"
   ]
  },
  {
   "cell_type": "markdown",
   "metadata": {},
   "source": [
    "##### Phần này ta áp dụng thư viện sklearn để giảm chiều dữ liệu và training "
   ]
  },
  {
   "cell_type": "code",
   "execution_count": 13,
   "metadata": {
    "colab": {},
    "colab_type": "code",
    "id": "GamCw59HEiFf"
   },
   "outputs": [],
   "source": [
    "from matplotlib.colors import ListedColormap\n",
    "def plot_decision_regions(X, y, classifier, resolution=0.02):\n",
    "\n",
    "    # setup marker generator and color map\n",
    "    markers = ('s', 'x', 'o', '^', 'v')\n",
    "    colors = ('red', 'blue', 'lightgreen', 'gray', 'cyan')\n",
    "    cmap = ListedColormap(colors[:len(np.unique(y))])\n",
    "\n",
    "    # plot the decision surface\n",
    "    x1_min, x1_max = X[:, 0].min() - 1, X[:, 0].max() + 1\n",
    "    x2_min, x2_max = X[:, 1].min() - 1, X[:, 1].max() + 1\n",
    "    xx1, xx2 = np.meshgrid(np.arange(x1_min, x1_max, resolution), np.arange(x2_min, x2_max, resolution))\n",
    "    Z = classifier.predict(np.array([xx1.ravel(), xx2.ravel()]).T)\n",
    "    Z = Z.reshape(xx1.shape)\n",
    "    plt.contourf(xx1, xx2, Z, alpha=0.4, cmap=cmap)\n",
    "    plt.xlim(xx1.min(), xx1.max())\n",
    "    plt.ylim(xx2.min(), xx2.max())\n",
    "\n",
    "    # plot examples by class\n",
    "    for idx, cl in enumerate(np.unique(y)):\n",
    "        plt.scatter(x=X[y == cl, 0], y=X[y == cl, 1], alpha=0.6, color=cmap(idx), edgecolor='black', marker=markers[idx], label=cl)"
   ]
  },
  {
   "cell_type": "code",
   "execution_count": 20,
   "metadata": {
    "colab": {},
    "colab_type": "code",
    "id": "GtSzGNHlEiFk",
    "outputId": "be783850-ddaf-4a58-9a94-8c3c803bc6ec"
   },
   "outputs": [
    {
     "data": {
      "text/plain": [
       "LogisticRegression(C=1.0, class_weight=None, dual=False, fit_intercept=True,\n",
       "          intercept_scaling=1, max_iter=100, multi_class='ovr',\n",
       "          n_jobs=None, penalty='l2', random_state=1, solver='lbfgs',\n",
       "          tol=0.0001, verbose=0, warm_start=False)"
      ]
     },
     "execution_count": 20,
     "metadata": {},
     "output_type": "execute_result"
    }
   ],
   "source": [
    "from sklearn.linear_model import LogisticRegression\n",
    "from sklearn.decomposition import PCA\n",
    "# initializing the PCA transformer and\n",
    "# logistic regression estimator:\n",
    "pca = PCA(n_components=2)\n",
    "lr = LogisticRegression(multi_class='ovr', random_state=1, solver='lbfgs')\n",
    "# dimensionality reduction:\n",
    "X_train_pca = pca.fit_transform(X_train_std)\n",
    "X_test_pca = pca.transform(X_test_std)\n",
    "# fitting the logistic regression model on the reduced dataset:\n",
    "lr.fit(X_train_pca, y_train)"
   ]
  },
  {
   "cell_type": "markdown",
   "metadata": {
    "colab_type": "text",
    "id": "9iszB2fBEiFi"
   },
   "source": [
    "Phân loại dữ liệu trên tập train chỉ với dữ liệu 2 chiều"
   ]
  },
  {
   "cell_type": "code",
   "execution_count": 21,
   "metadata": {},
   "outputs": [
    {
     "data": {
      "image/png": "[encoded data removed]",
      "text/plain": [
       "<Figure size 432x288 with 1 Axes>"
      ]
     },
     "metadata": {
      "needs_background": "light"
     },
     "output_type": "display_data"
    }
   ],
   "source": [
    "plot_decision_regions(X_train_pca, y_train, classifier=lr)\n",
    "plt.xlabel('PC 1')\n",
    "plt.ylabel('PC 2')\n",
    "plt.legend(loc='lower left')\n",
    "plt.tight_layout()\n",
    "plt.show()"
   ]
  },
  {
   "cell_type": "markdown",
   "metadata": {
    "colab_type": "text",
    "id": "8crBOBPbEiFn"
   },
   "source": [
    "Phân loại dữ liệu trên tập test chỉ với dữ liệu 2 chiều"
   ]
  },
  {
   "cell_type": "code",
   "execution_count": 15,
   "metadata": {
    "colab": {},
    "colab_type": "code",
    "id": "dEWq82NKEiFo",
    "outputId": "5abd64cb-1dd6-43c3-c298-d16238a4c795"
   },
   "outputs": [
    {
     "data": {
      "image/png": "[encoded data removed]",
      "text/plain": [
       "<Figure size 432x288 with 1 Axes>"
      ]
     },
     "metadata": {
      "needs_background": "light"
     },
     "output_type": "display_data"
    }
   ],
   "source": [
    "plot_decision_regions(X_test_pca, y_test, classifier=lr)\n",
    "plt.xlabel('PC1')\n",
    "plt.ylabel('PC2')\n",
    "plt.legend(loc='lower left')\n",
    "plt.tight_layout()\n",
    "plt.show()"
   ]
  },
  {
   "cell_type": "markdown",
   "metadata": {},
   "source": [
    "Ta có thể thấy chỉ có một vài điểm bị phân loại sai, logistic regression hoạt động khá tốt trên không gian hai chiều này."
   ]
  },
  {
   "cell_type": "markdown",
   "metadata": {
    "colab_type": "text",
    "id": "jxRdt_IjEiFr"
   },
   "source": [
    "# 4. Kết luận"
   ]
  },
  {
   "cell_type": "markdown",
   "metadata": {
    "colab_type": "text",
    "id": "y7Pilw2KEiFr"
   },
   "source": [
    "## 4.1 Ưu điểm của PCA"
   ]
  },
  {
   "cell_type": "markdown",
   "metadata": {
    "colab_type": "text",
    "id": "mhmx9nieEiFs"
   },
   "source": [
    "- Loại bỏ các đặc trưng tương quan (giảm các đặc trưng)\n",
    "- Cải thiện hiệu suất thuật toán\n",
    "- Giảm quá khớp (*overfitting*)\n",
    "- Cải thiện trực quan hóa dữ liệu (dễ trực quan hóa khi có ít chiều)"
   ]
  },
  {
   "cell_type": "markdown",
   "metadata": {
    "colab_type": "text",
    "id": "98rNHduwEiFs"
   },
   "source": [
    "## 4.2 Nhược điểm của PCA"
   ]
  },
  {
   "cell_type": "markdown",
   "metadata": {
    "colab_type": "text",
    "id": "0-2ipAprEiFt"
   },
   "source": [
    "- Các biến độc lập trở nên khó hiểu hơn (các đặc trưng mới không dễ đọc và dễ hiểu như các đặc trưng ban đầu).\n",
    "- Chuẩn hóa dữ liệu trước khi sử dụng PCA.\n",
    "- Mất thông tin."
   ]
  },
  {
   "cell_type": "markdown",
   "metadata": {
    "colab_type": "text",
    "id": "Fjn0Q3fkEiFu"
   },
   "source": [
    "# 5. Tài liệu tham khảo"
   ]
  },
  {
   "cell_type": "markdown",
   "metadata": {
    "colab_type": "text",
    "id": "Q5t6t-F1EiFu"
   },
   "source": [
    "$^{[1]}$ [Python machine learning book](https://www.amazon.com/Python-Machine-Learning-scikit-learn-TensorFlow/dp/1787125939)\n",
    "\n",
    "$^{[2]}$ [Principal Component Analysis - Machine learning co ban](https://machinelearningcoban.com/2017/06/15/pca/)\n",
    "\n",
    "$^{[3]}$ [Rpubs: PCA - Principal Components Analysis](https://rpubs.com/vudt1993/257891)\n",
    "\n",
    "$^{[4]}$ [What are the Pros and cons of the PCA?](https://www.i2tutorials.com/what-are-the-pros-and-cons-of-the-pca/)"
   ]
  }
 ],
 "metadata": {
  "colab": {
   "collapsed_sections": [],
   "name": "Principal-Component-Analysis-PCA.ipynb",
   "provenance": []
  },
  "kernelspec": {
   "display_name": "Python 3",
   "language": "python",
   "name": "python3"
  },
  "language_info": {
   "codemirror_mode": {
    "name": "ipython",
    "version": 3
   },
   "file_extension": ".py",
   "mimetype": "text/x-python",
   "name": "python",
   "nbconvert_exporter": "python",
   "pygments_lexer": "ipython3",
   "version": "3.7.3"
  }
 },
 "nbformat": 4,
 "nbformat_minor": 1
}
