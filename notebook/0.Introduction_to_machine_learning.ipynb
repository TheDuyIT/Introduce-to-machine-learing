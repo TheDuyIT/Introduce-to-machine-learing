{
 "cells": [
  {
   "cell_type": "markdown",
   "metadata": {},
   "source": [
    "# Tổng quan"
   ]
  },
  {
   "cell_type": "markdown",
   "metadata": {
    "colab_type": "text",
    "id": "954lqF7WTB9n"
   },
   "source": [
    "- [1 Học máy là gì?](#1-Học-máy-là-gì?)\n",
    "- [2 Tại sao sử dụng Học máy?](#2-Tại-sao-sử-dụng-Học-máy?)\n",
    "- [3 Học máy có những loại nào?](#3-Học-máy-có-những-loại-nào?)\n",
    "    - [3.1 Học có giám sát](#3.1-Học-có-giám-sát)\n",
    "    - [3.2 Học không có giám sát](#3.2-Học-không-có-giám-sát)\n",
    "    - [3.3 Học bán giám sát](#3.3-Học-bán-giám-sát)\n",
    "    - [3.4 Học tăng cường](#3.4-Học-tăng-cường)\n",
    "- [4 Tài liệu tham khảo](#4-Tài-liệu-tham-khảo)"
   ]
  },
  {
   "cell_type": "markdown",
   "metadata": {
    "colab_type": "text",
    "id": "J9A0ZF5x1GPA"
   },
   "source": [
    "# 1 Học máy là gì?"
   ]
  },
  {
   "cell_type": "markdown",
   "metadata": {
    "colab_type": "text",
    "id": "ztWWb34-1Nyo"
   },
   "source": [
    "Học Máy ( Machine Learning ) là lĩnh vực con của Trí Tuệ Nhân Tạo ( Artificial Intelligence - AI). Mục tiêu của Học Máy là hiểu cấu trúc của dữ liệu ( data ) và xử lý dữ liệu để tạo ra các mô hình ( model ) thực hiện các công việc cụ thể. Nếu trong các phương pháp tiếp cận truyền thống, thuật toán là một tập hợp các tri thức và quy luật được lập trình rõ ràng thì ở đây các thuật toán machine learning sẽ tự học các tri thức và quy luật đó từ dữ liệu đầu vào.\n",
    "\n"
   ]
  },
  {
   "cell_type": "markdown",
   "metadata": {
    "colab_type": "text",
    "id": "ffiCGo0U2NC0"
   },
   "source": [
    "Arthur Samuel định nghĩa Học Máy như sau: \n",
    "\n",
    ">[Machine Learning is the] field of study that gives computers the ability to learn without being explicitly programmed.\n",
    "\n",
    "          Arthur Samuel, 1959 \n"
   ]
  },
  {
   "cell_type": "markdown",
   "metadata": {
    "colab_type": "text",
    "id": "lM6-JYxywlxv"
   },
   "source": [
    "Ứng dụng đầu tiên của Học máy là chương trình lọc thư rác (spam filter). Nó đã giúp cải thiện cuộc sống của hàng trăm triệu người và phổ biến trên toàn thế thời từ thập niên 1990. Nó là tiền đề phát triển cho hàng trăm ứng dụng Học máy khác như hệ thống khuyến nghị, nhận dạng giọng nói, nhận dạng khuôn mặt,..."
   ]
  },
  {
   "cell_type": "markdown",
   "metadata": {
    "colab_type": "text",
    "id": "_pccQ6KV7Rq5"
   },
   "source": [
    "# 2 Tại sao sử dụng Học máy?"
   ]
  },
  {
   "cell_type": "markdown",
   "metadata": {
    "colab_type": "text",
    "id": "4jTkIGTl7lGB"
   },
   "source": [
    "Cách tiếp cận cũ cho các vấn đề yêu cầu nhiều sự can thiệp thủ công từ con người, yêu cầu phải có một hệ thống tập luật rất dài. Đối với Học máy, việc tiếp cận trở nên dễ dàng hơn cho việc lập trình và cho kết quả tốt hơn vì chương trình Học máy có thể tự động mô hình hoá, nhận biết được các luật mới dựa trên dữ liệu đầu vào.\n",
    "\n",
    "Các vấn đề phức tạp mà chưa có lời giải tốt bằng cách tiếp cận truyền thống có thể tìm được lời giải tốt bằng kỹ thuật Học máy.\n",
    "\n",
    "Chương trình học máy có thể điều chỉnh để thích ứng với dữ liệu mới và nhận thông tin chuyên sâu về các vấn đề phức tạp với lượng lớn dữ liệu.\n",
    "\n",
    "\n"
   ]
  },
  {
   "cell_type": "markdown",
   "metadata": {
    "colab_type": "text",
    "id": "_Ej4c_4KAFf3"
   },
   "source": [
    "# 3 Học máy có những loại nào?"
   ]
  },
  {
   "cell_type": "markdown",
   "metadata": {
    "colab_type": "text",
    "id": "QH0fX3btAPac"
   },
   "source": [
    "Có bốn loại thuật toán Học máy chính: Học có giám sát (supervised learning), học không có giám sát (unsupervised learning), học bán giám sát (semisupervised  learning), học tăng cường (Reinforcement learning)."
   ]
  },
  {
   "cell_type": "markdown",
   "metadata": {
    "colab_type": "text",
    "id": "H7M128xPCTk-"
   },
   "source": [
    "## 3.1 Học có giám sát"
   ]
  },
  {
   "cell_type": "markdown",
   "metadata": {
    "colab_type": "text",
    "id": "mdD96FkfCXss"
   },
   "source": [
    "Trong học có giám sát, thuật toán cần được học dựa trên dữ liệu đầu vào được gán nhãn. Có hai loại chính là:\n",
    "- Phân lớp (Classification): tập hợp các giá trị nhãn là hữu hạn và rời rạc. Ví dụ: phân loại các loại xe cộ (xe bus, xe hơi, xe máy,...), chương trình lọc thư rác, khách hàng có khả năng thanh toán nợ hay không, ...\n"
   ]
  },
  {
   "cell_type": "markdown",
   "metadata": {
    "colab_type": "text",
    "id": "vGVLoAXmOrEP"
   },
   "source": [
    "| ![Lọc thư rác](https://raw.githubusercontent.com/TheDuyIT/Introduce-to-machine-learing/master/images/0/Spam%20filtering.png) | \n",
    "|:--:| \n",
    "| *Lọc thư rác* |"
   ]
  },
  {
   "cell_type": "markdown",
   "metadata": {
    "colab_type": "text",
    "id": "MKXAwYAKW_1A"
   },
   "source": [
    "- Hồi quy (Regression): tập hợp các giá trị nhãn là liên tục. Ví dụ: dự đoán giá đất đai, dự đoán tuổi, ..."
   ]
  },
  {
   "cell_type": "markdown",
   "metadata": {
    "colab_type": "text",
    "id": "-fddLmFNXcHC"
   },
   "source": [
    "|![Hồi quy](https://raw.githubusercontent.com/TheDuyIT/Introduce-to-machine-learing/master/images/0/regression.png)|\n",
    "|:--:|\n",
    "|*Hồi quy*|"
   ]
  },
  {
   "cell_type": "markdown",
   "metadata": {
    "colab_type": "text",
    "id": "7llAfX5rF97W"
   },
   "source": [
    "Một số thuật toán học có giám sát tiêu biểu:\n",
    "- Linear Regression\n",
    "- Logistic Regression\n",
    "- CART\n",
    "- Naive Bayes\n",
    "- KNN"
   ]
  },
  {
   "cell_type": "markdown",
   "metadata": {
    "colab_type": "text",
    "id": "ktiW3b9JFtoZ"
   },
   "source": [
    "## 3.2 Học không có giám sát"
   ]
  },
  {
   "cell_type": "markdown",
   "metadata": {
    "colab_type": "text",
    "id": "1_52BaznFxGS"
   },
   "source": [
    "Khác với học có giám sát, thuật toán học không có giám sát nhận dữ liệu đầu vào không có nhãn. Một số loại chính là:\n",
    "- Phân cụm (Clustering): được dùng trong việc khám phá những nhóm dữ liệu có mối tương đồng. Ví dụ: phân nhóm khách hàng có chung sở thích mua hàng.\n"
   ]
  },
  {
   "cell_type": "markdown",
   "metadata": {
    "colab_type": "text",
    "id": "2XU_jJdgYirk"
   },
   "source": [
    "|![Clustering](https://raw.githubusercontent.com/TheDuyIT/Introduce-to-machine-learing/master/images/0/cluster.png)|\n",
    "|:--:|\n",
    "|*Phân cụm*|"
   ]
  },
  {
   "cell_type": "markdown",
   "metadata": {
    "colab_type": "text",
    "id": "ARyGqgKxYtvG"
   },
   "source": [
    "- Giảm chiều dữ liệu (Dimension reduction): mục đích đơn giản hoá dữ liệu mà không mất đi những đặc trưng quan trọng. Một cách để làm điều này là hợp nhất những đặc trưng tương quan thành một. Ví dụ: số km đi được của một chiếc xe có tương quan cao với số tuổi của nó nên có thể kết hợp thành một đặc trưng như \"sự hao mòn\". Phương pháp này còn gọi là: trích xuất đặc trưng (feature extraction)\n"
   ]
  },
  {
   "cell_type": "markdown",
   "metadata": {
    "colab_type": "text",
    "id": "bN228mBOYycO"
   },
   "source": [
    "- Biểu diễn tri thức (Knowledge/data representation): biểu diễn tri thức bằng các cấu trúc mà máy tính có thể sử dụng hiệu quả. Tác vụ này đôi khi là bước tiền xử lý cho các thuật toán machine learning khác.\n"
   ]
  },
  {
   "cell_type": "markdown",
   "metadata": {
    "colab_type": "text",
    "id": "Yt6TH46nY0Ns"
   },
   "source": [
    "- Phát hiện bất thường (anomaly detection): ví dụ phát hiện sự bất thường trong giao dịch để phát hiện và ngăn chặn giao dịch trái phép."
   ]
  },
  {
   "cell_type": "markdown",
   "metadata": {
    "colab_type": "text",
    "id": "oQcT-vkTZb_5"
   },
   "source": [
    "|![Anomaly detection](https://raw.githubusercontent.com/TheDuyIT/Introduce-to-machine-learing/master/images/0/anomaly.png)|\n",
    "|:--:|\n",
    "|*Phát hiện bất thường*|"
   ]
  },
  {
   "cell_type": "markdown",
   "metadata": {
    "colab_type": "text",
    "id": "KlWy_FO_Khj9"
   },
   "source": [
    "Một số thuật toán học không có giám sát:\n",
    "- Apriori\n",
    "- K-means\n",
    "- PCA "
   ]
  },
  {
   "cell_type": "markdown",
   "metadata": {
    "colab_type": "text",
    "id": "ie1IqB_5KUz5"
   },
   "source": [
    "## 3.3 Học bán giám sát"
   ]
  },
  {
   "cell_type": "markdown",
   "metadata": {
    "colab_type": "text",
    "id": "oRHpkpQRKZi1"
   },
   "source": [
    "Một số thuật toán có thể hoạt động khi chúng ta có một lượng lớn dữ liệu nhưng chỉ một phần trong chúng được gán nhãn. Một ví dụ điển hình của thuật toán này là chỉ có một phần ảnh được gán nhãn và phần lớn còn lại chưa được gán nhãn được thu thập từ Internet."
   ]
  },
  {
   "cell_type": "markdown",
   "metadata": {
    "colab_type": "text",
    "id": "L79wscJwLxQo"
   },
   "source": [
    "## 3.4 Học tăng cường"
   ]
  },
  {
   "cell_type": "markdown",
   "metadata": {
    "colab_type": "text",
    "id": "DGDrN7krL3Cp"
   },
   "source": [
    "Học tăng cường nghiên cứu các thuật toán để dạy agent tương tác với môi trường xung quanh (thực thi một tác vụ nào đó). Các agent có thể quan sát môi trường, lựa chọn hành động và nhận được phần thưởng (hoặc phạt) từ hành động đó. Được ứng dụng nhiều trong điều kiển robot và game.\n",
    "Ví dụ: DeepMind's AlphaGo nổi tiếng với việc chơi cờ vây thắng cả con người."
   ]
  },
  {
   "cell_type": "markdown",
   "metadata": {
    "colab_type": "text",
    "id": "fbQiz4DXQ1VH"
   },
   "source": [
    "# Tìm hiểu thêm về Học máy $\\implies$[10 thuật toán cho người mới bắt đầu](https://www.kdnuggets.com/2017/10/top-10-machine-learning-algorithms-beginners.html)"
   ]
  },
  {
   "cell_type": "markdown",
   "metadata": {
    "colab_type": "text",
    "id": "1l6wHSdYPmo1"
   },
   "source": [
    "### Ngoài cách phân loại như trên, thuật toán Học máy có thể được phân loại dựa theo các tiêu chí sau: batch hay online, instance-based hay model-based, ..."
   ]
  },
  {
   "cell_type": "markdown",
   "metadata": {},
   "source": [
    "# 4 Tài liệu tham khảo"
   ]
  },
  {
   "cell_type": "markdown",
   "metadata": {},
   "source": [
    "$^{[1]}$[Hands-On Machine Learning with Scikit-Learn, Keras, and TensorFlow](#http://shop.oreilly.com/product/0636920142874.do)\n",
    "\n",
    "$^{[2]}$[Machine Learning (github: )](#https://github.com/linhduo/web/blob/master/MachineLearning.md)\n",
    "\n",
    "$^{[3]}$[Slide Introduction to Machine Learning (Thầy Quách Đình Hoàng)](#)\n",
    "\n",
    "$^{[4]}$[Top 10 Machine Learning Algorithms for Beginners](#https://www.kdnuggets.com/2017/10/top-10-machine-learning-algorithms-beginners.html\n",
    ")"
   ]
  }
 ],
 "metadata": {
  "colab": {
   "collapsed_sections": [],
   "name": "Introduction_to_machine_learning.ipynb",
   "provenance": []
  },
  "kernelspec": {
   "display_name": "Python 3",
   "language": "python",
   "name": "python3"
  },
  "language_info": {
   "codemirror_mode": {
    "name": "ipython",
    "version": 3
   },
   "file_extension": ".py",
   "mimetype": "text/x-python",
   "name": "python",
   "nbconvert_exporter": "python",
   "pygments_lexer": "ipython3",
   "version": "3.6.4"
  }
 },
 "nbformat": 4,
 "nbformat_minor": 1
}
