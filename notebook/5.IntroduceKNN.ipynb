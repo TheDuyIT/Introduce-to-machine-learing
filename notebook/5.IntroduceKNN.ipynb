{
 "cells": [
  {
   "cell_type": "markdown",
   "metadata": {
    "colab_type": "text",
    "id": "enNpW3djGBHd"
   },
   "source": [
    "# <center>K-Nearest Neighbors</center>\n",
    "\n",
    "\n"
   ]
  },
  {
   "cell_type": "markdown",
   "metadata": {
    "colab_type": "text",
    "id": "2mZNNCBDGBHn"
   },
   "source": [
    "- [1. Giới thiệu](##1.-Giới-thiệu)\n",
    "- [2. Ý tưởng chính](#2.-Ý-tưởng-chính)\n",
    "    - [2.1 K trong KNN](#2.1-K-trong-KNN)\n",
    "    - [2.2 Các độ đo khoảng cách](#2.2-Các-độ-đo-khoảng-cách)\n",
    "      - [2.2.1 Khoảng cách Euclidean](#2.2.1-Khoảng-cách-Euclidean)\n",
    "      - [2.2.2 Khoảng cách Hamming](#2.2.2-Khoảng-cách-Hamming)\n",
    "      - [2.2.3 Khoảng cách Minkowski](#2.2.3-Khoảng-cách-Minkowski)\n",
    "      - [2.2.4 Độ đo tự định nghĩa](2.2.4-Độ-đo-tự-định-nghĩa)\n",
    "- [3. Demo đơn giản](#3.-Demo-đơn-giản)\n",
    "- [4. Kết luận](#4.-Kết-luận)\n",
    "  - [4.1 Ưu điểm](#4.1-Ưu-điểm)\n",
    "  - [4.2 Nhược điểm](#4.2-Nhược-điểm)\n",
    "- [5. Tài liệu tham khảo](#5.-Tài-liệu-tham-khảo)\n",
    "\n"
   ]
  },
  {
   "cell_type": "markdown",
   "metadata": {
    "colab_type": "text",
    "id": "s47C1tRlGBIZ"
   },
   "source": [
    "## 1. Giới thiệu"
   ]
  },
  {
   "cell_type": "markdown",
   "metadata": {
    "colab_type": "text",
    "id": "c4I68ZwN4itT"
   },
   "source": [
    "K-Nearest Neighbors (KNN) là một thuật toán đơn giản, dùng cho cả bài toán phân loại (classifications) và hồi quy (regression). Khác với đa số thuật toán học máy khác, KNN không học từ dữ liệu mà mọi quá trình tính toán đều được thực hiện khi cần dự đoán kết quả của một điểm dữ liệu mới. Đây được xem như là một sự đánh đổi, khi không tốn chi phí training nhưng chi phí tính toán và bộ nhớ đòi hỏi lớn. Nó tốn chi phí bộ nhớ vì phải lưu trữ toàn bộ dữ liệu để phục vụ tính toán. Tương tự với chi phí tính toán, việc tìm ra kết quả của một điểm dữ liệu nhất định cần duyệt qua toàn bộ dữ liệu."
   ]
  },
  {
   "cell_type": "markdown",
   "metadata": {
    "colab_type": "text",
    "id": "wC4buZ4z4itU"
   },
   "source": [
    "KNN là một phương pháp không tham số (non-parametric): số lượng tham số cố định không phụ thuộc vào kích cỡ cũng như số chiều của dữ liệu đầu vào. Đối với KNN, không phụ thuộc vào số lượng đặc trưng của dữ liệu, mô hình chỉ có duy nhất một tham số là $K$ (*Hyperparameter* - tham số được cho trước). Nó cũng không yêu cầu bất cứ giả định nào về phân phối dữ liệu như các thuật toán khác. Điều này mang lại cho KNN một lợi thế vượt trội trong các mô hình có dữ liệu phân phối không theo quy chuẩn nhất định (không tuyến tính). Đây là lý do để KNN là lựa chọn đầu tiên khi không có thông tin về phân phối dữ liệu."
   ]
  },
  {
   "cell_type": "markdown",
   "metadata": {
    "colab_type": "text",
    "id": "a5Pvc6RT4itV"
   },
   "source": [
    "## 2. Ý tưởng chính"
   ]
  },
  {
   "cell_type": "markdown",
   "metadata": {
    "colab_type": "text",
    "id": "fZnPB-WY4itW"
   },
   "source": [
    "KNN hoạt động dựa trên nguyên lý:"
   ]
  },
  {
   "cell_type": "markdown",
   "metadata": {
    "colab_type": "text",
    "id": "umkuJyuS4itW"
   },
   "source": [
    " \n",
    ">Gần mực thì đen, gần đèn thì sáng.\n",
    "\n",
    "          Tục ngữ Việt Nam\n"
   ]
  },
  {
   "cell_type": "markdown",
   "metadata": {
    "colab_type": "text",
    "id": "_iUWjMP54itX"
   },
   "source": [
    "Nghĩa là, khi bạn có các đặc trưng gần với một nhóm $K$ người nào đó thì KNN cho rằng bạn giống với số đông trong $K$ người đó. Nói cách khác, KNN dựa trên sự tương đồng giữa các đặc trưng để phân loại một điểm dữ liệu nhất định."
   ]
  },
  {
   "cell_type": "markdown",
   "metadata": {
    "colab_type": "text",
    "id": "l0cN8wSt4itY"
   },
   "source": [
    "### 2.1 $K$ trong KNN\n"
   ]
  },
  {
   "cell_type": "markdown",
   "metadata": {
    "colab_type": "text",
    "id": "1M_8p5nI4itZ"
   },
   "source": [
    "$K$ chỉ định số lượng điểm lân cận được xem xét đến khi quyết định kết quả của một điểm cần dự đoán. Đây là một tham số cực kì quan trọng khi làm việc với KNN. Nếu $K$ quá nhỏ, có thể dẫn đến độ tin cậy của mô hình không chính xác, nếu $K$ quá lớn sẽ dẫn đến tốn chi phí tính toán. Không có một giá trị $K$ nào được coi là tối ưu cho mọi bài toán sử dụng KNN, việc chọn giá trị của $K$ phụ thuộc vào từng trường hợp cụ thể và đôi khi phương pháp tốt nhất để chọn $K$ là chạy qua các giá trị khác nhau của $K$ và so sánh kết quả để tìm ra được giá trị $K$ tối ưu cho bài toán."
   ]
  },
  {
   "cell_type": "markdown",
   "metadata": {
    "colab_type": "text",
    "id": "bZdvzyMc26M_"
   },
   "source": [
    "|![Minh hoạ tham số K](https://raw.githubusercontent.com/TheDuyIT/Introduce-to-machine-learing/master/images/5/KNN.png)| \n",
    "|:--:| \n",
    "|*Minh hoạ tham số K*|\n"
   ]
  },
  {
   "cell_type": "markdown",
   "metadata": {
    "colab_type": "text",
    "id": "Uk6w2wwn4ita"
   },
   "source": [
    "Với hình trên, khi:\n",
    "- $K$ = 1, x có giá trị là hình ngôi sao vì x gần nhất với ngôi sao trong vòng tròn $K$ = 1.\n",
    "- $K$ = 3, x có giá trị là ngôi sao vì trong vòng tròn $K$ = 3, có 2 ngôi sao và 1 hình vuông.\n",
    "- $K$ = 5, x có giá trị là hình vuông vì trong vòng trong $K$  = 5, có 2 ngôi sao và 3 hình vuông.\n",
    "- $K$ = 2, ta không xác định được giá trị của x vì số ngôi sao và hình vuông bằng nhau. Do đó ta nên tránh sử dụng $K$ là số chẵn."
   ]
  },
  {
   "cell_type": "markdown",
   "metadata": {
    "colab_type": "text",
    "id": "INJTuJYX4ita"
   },
   "source": [
    "### 2.2 Các độ đo khoảng cách"
   ]
  },
  {
   "cell_type": "markdown",
   "metadata": {
    "colab_type": "text",
    "id": "PbXXG2AL4itb"
   },
   "source": [
    "Tương tự như tham số $K$, KNN sử dụng nhiều độ đo khoảng cách khác nhau. Và không ai trong chúng ta có thể đảm bảo rằng một độ đo tốt hơn phần còn lại với mọi người hợp. Ý tưởng chính của việc chọn độ đo là: đâu là định nghĩa thích hợp nhất về độ đo cho dữ liệu hiện tại. Như vậy, ở phần này chúng ta sẽ điểm qua một số độ đo khoảng cách nổi bật:"
   ]
  },
  {
   "cell_type": "markdown",
   "metadata": {
    "colab_type": "text",
    "id": "6Q6imp9H4itc"
   },
   "source": [
    "#### 2.2.1 Khoảng cách *Euclidean*"
   ]
  },
  {
   "cell_type": "markdown",
   "metadata": {
    "colab_type": "text",
    "id": "ABmDHoUA4itd"
   },
   "source": [
    "Đây là một trong số các độ đo được sử dụng phổ biến trong các mô hình học máy. Công thức của khoảng cách *Euclidean* như sau:\n",
    "\n",
    "$$D(a, b) = \\sqrt{\\sum_i^n{(b_i - a_i)^2}}$$\n"
   ]
  },
  {
   "cell_type": "markdown",
   "metadata": {
    "colab_type": "text",
    "id": "bjN8b3PJ4itd"
   },
   "source": [
    "#### 2.2.2 Khoảng cách *Hamming*"
   ]
  },
  {
   "cell_type": "markdown",
   "metadata": {
    "colab_type": "text",
    "id": "DRLqaT7l4ite"
   },
   "source": [
    "Đây là độ đo được sử dụng khi làm việc với dữ liệu rời rạc (categorical data). Với một điểm dữ liệu nhất định, ta xét từng đặc trưng của điểm dữ liệu, nếu giá trị của nó giống với đặc trưng tương ứng của điểm dữ liệu mà khoảng cách đang được đo thì khoảng cách là 0, ngược lại khoảng cách là 1. Khoảng cách giữa 2 điểm dữ liệu sẽ bằng tổng khoảng cách giữa các đặc trưng của 2 điểm dữ liệu. Công thức cho khoảng cách *Hamming* là:\n",
    "$$D(a, b) = \\sum_{i = 1}^n{(a_i \\ne b_i)}$$\n",
    "Trong đó: \n",
    "- $n$ là số lượng đặc trưng của dữ liệu.\n",
    "- $a_i$ là đặc trưng thứ $i$ của dữ liệu.\n"
   ]
  },
  {
   "cell_type": "markdown",
   "metadata": {
    "colab_type": "text",
    "id": "VcFQM_QL4itf"
   },
   "source": [
    "#### 2.2.3 Khoảng cách *Minkowski*"
   ]
  },
  {
   "cell_type": "markdown",
   "metadata": {
    "colab_type": "text",
    "id": "TaHg9_r44itg"
   },
   "source": [
    "Khoảng cách *Euclide* có thể được khái quát bằng cách sử dụng chuẩn *Minkowski* còn được gọi là chuẩn p. Công thức cho khoảng cách *Minkowski* là:\n",
    "$$D(a, b) = \\sqrt[p]{|a_f -b_f|^p}$$\n",
    "Trong đó: \n",
    "- $f$ là đặc trưng.\n",
    "- Tham số $p$ cho ta một lợi thế khi sử dụng khoảng cách *Minkowski* đó là có thể thay đổi giá trị của $p$ để có được các loại độ đo khoảng cách khác nhau."
   ]
  },
  {
   "cell_type": "markdown",
   "metadata": {
    "colab_type": "text",
    "id": "Gqn2TaTJ4iti"
   },
   "source": [
    " #### 2.2.4 Độ đo tự định nghĩa"
   ]
  },
  {
   "cell_type": "markdown",
   "metadata": {
    "colab_type": "text",
    "id": "T-tUbluxDzfc"
   },
   "source": [
    "Ngoài những độ đo nêu trên thì còn rất nhiều độ đo khác được phát triển bởi nhiều nhà nghiên cứu khác. Tuy nhiên, với KNN ta  hoàn toán có thể tự định nghĩa độ đo mới cho phù hợp với thực tế bài toán, miễn là nó hợp lý và cho hiệu quả tốt."
   ]
  },
  {
   "cell_type": "markdown",
   "metadata": {
    "colab_type": "text",
    "id": "3J3X0JKC4ito"
   },
   "source": [
    "## 3. Demo đơn giản"
   ]
  },
  {
   "cell_type": "code",
   "execution_count": 0,
   "metadata": {
    "colab": {},
    "colab_type": "code",
    "id": "HNA04qCJbvjz"
   },
   "outputs": [],
   "source": [
    "from mnist import MNIST\n",
    "from sklearn.neighbors import KNeighborsClassifier\n",
    "import numpy as np"
   ]
  },
  {
   "cell_type": "code",
   "execution_count": 0,
   "metadata": {
    "colab": {},
    "colab_type": "code",
    "id": "ld2V9KAscOp4"
   },
   "outputs": [],
   "source": [
    "# Chuẩn bị dữ liệu\n",
    "mndata = MNIST('mnist') # Tải dữ liệu tại http://yann.lecun.com/exdb/mnist/\n",
    "data.load_testing()\n",
    "data.load_training()\n",
    "X_test = data.test_images\n",
    "X_train = data.train_images\n",
    "y_test = np.asarray(data.test_labels)\n",
    "y_train = np.asarray(data.train_labels)"
   ]
  },
  {
   "cell_type": "code",
   "execution_count": 4,
   "metadata": {
    "colab": {
     "base_uri": "https://localhost:8080/",
     "height": 70
    },
    "colab_type": "code",
    "executionInfo": {
     "elapsed": 21960,
     "status": "ok",
     "timestamp": 1590459540422,
     "user": {
      "displayName": "Duy Nguyễn",
      "photoUrl": "https://lh3.googleusercontent.com/a-/AOh14GiGaUv_xpTT53g1CWtiXl_PQ5E86LhgAenJ_rQvqQ=s64",
      "userId": "01595127847774685510"
     },
     "user_tz": -420
    },
    "id": "lPZkFmpsJvun",
    "outputId": "c7876b89-17fc-4e42-b29f-f0001d2165f6"
   },
   "outputs": [
    {
     "data": {
      "text/plain": [
       "KNeighborsClassifier(algorithm='auto', leaf_size=30, metric='minkowski',\n",
       "                     metric_params=None, n_jobs=None, n_neighbors=3, p=2,\n",
       "                     weights='uniform')"
      ]
     },
     "execution_count": 4,
     "metadata": {
      "tags": []
     },
     "output_type": "execute_result"
    }
   ],
   "source": [
    "neigh = KNeighborsClassifier(n_neighbors=3)\n",
    "neigh.fit(X_train, y_train)\n"
   ]
  },
  {
   "cell_type": "code",
   "execution_count": 5,
   "metadata": {
    "colab": {
     "base_uri": "https://localhost:8080/",
     "height": 34
    },
    "colab_type": "code",
    "executionInfo": {
     "elapsed": 98431,
     "status": "ok",
     "timestamp": 1590459644415,
     "user": {
      "displayName": "Duy Nguyễn",
      "photoUrl": "https://lh3.googleusercontent.com/a-/AOh14GiGaUv_xpTT53g1CWtiXl_PQ5E86LhgAenJ_rQvqQ=s64",
      "userId": "01595127847774685510"
     },
     "user_tz": -420
    },
    "id": "MCcUZ0q-okaA",
    "outputId": "60b7aebf-939b-486f-bddf-822eecabd922"
   },
   "outputs": [
    {
     "data": {
      "text/plain": [
       "0.962"
      ]
     },
     "execution_count": 5,
     "metadata": {
      "tags": []
     },
     "output_type": "execute_result"
    }
   ],
   "source": [
    "neigh.score(X_test[:1000], y_test[:1000])"
   ]
  },
  {
   "cell_type": "markdown",
   "metadata": {
    "colab_type": "text",
    "id": "B9rrCZUo4itp"
   },
   "source": [
    "## 4. Kết luận\n"
   ]
  },
  {
   "cell_type": "markdown",
   "metadata": {
    "colab_type": "text",
    "id": "u3VOSGU7ZXKQ"
   },
   "source": [
    "### 4.1 Ưu điểm"
   ]
  },
  {
   "cell_type": "markdown",
   "metadata": {
    "colab_type": "text",
    "id": "mqQvWgmDhVG9"
   },
   "source": [
    "- Không có giả định về phân bố dữ liệu.\n",
    "- Thuật toán đơn giản, dễ giải thích.\n",
    "- Có thể dùng cho cả phân loại và hồi quy."
   ]
  },
  {
   "cell_type": "markdown",
   "metadata": {
    "colab_type": "text",
    "id": "eFcNA1OBhVVp"
   },
   "source": [
    "### 4.2 Nhược điểm"
   ]
  },
  {
   "cell_type": "markdown",
   "metadata": {
    "colab_type": "text",
    "id": "SyMUx9u6hVlN"
   },
   "source": [
    "- Chi phí tính toán cao.\n",
    "- Yêu cầu bộ nhớ lớn.\n",
    "- Thời gian dự đoán có thể chậm O(n)."
   ]
  },
  {
   "cell_type": "markdown",
   "metadata": {
    "colab_type": "text",
    "id": "EOjxYstl4itp"
   },
   "source": [
    "## 5. Tài liệu tham khảo"
   ]
  },
  {
   "cell_type": "markdown",
   "metadata": {
    "colab_type": "text",
    "id": "w3vNxHTI4itu"
   },
   "source": [
    "$^{[1]}$ [Blog: Usejournal: A Quick Introduction to K-Nearest Neighbors Algorithm](https://blog.usejournal.com/a-quick-introduction-to-k-nearest-neighbors-algorithm-62214cea29c7)\n",
    "\n",
    "$^{[2]}$ [Datavedas: KNN - DISTANCE METRICS](https://www.datavedas.com/knn-distance-metrics/) \n",
    "\n",
    "$^{[3]}$ [Wikipedia: K-nearest_neighbors_algorithm](https://en.wikipedia.org/wiki/K-nearest_neighbors_algorithm)\n",
    "\n",
    "$^{[4]}$ [Springboard: KNN Machine Learning Algorithm Explained](https://in.springboard.com/blog/knn-machine-learning-algorithm-explained/)\n",
    "\n",
    "$^{[5]}$ [Machine learning cơ bản: K-nearest neighbors](https://machinelearningcoban.com/2017/01/08/knn/) \n",
    "\n",
    "\n"
   ]
  }
 ],
 "metadata": {
  "anaconda-cloud": {},
  "colab": {
   "collapsed_sections": [],
   "name": "3.IntroduceKNN.ipynb",
   "provenance": [],
   "toc_visible": true
  },
  "kernelspec": {
   "display_name": "Python 3",
   "language": "python",
   "name": "python3"
  },
  "language_info": {
   "codemirror_mode": {
    "name": "ipython",
    "version": 3
   },
   "file_extension": ".py",
   "mimetype": "text/x-python",
   "name": "python",
   "nbconvert_exporter": "python",
   "pygments_lexer": "ipython3",
   "version": "3.7.6"
  },
  "toc": {
   "nav_menu": {},
   "number_sections": true,
   "sideBar": true,
   "skip_h1_title": false,
   "title_cell": "Table of Contents",
   "title_sidebar": "Contents",
   "toc_cell": false,
   "toc_position": {},
   "toc_section_display": true,
   "toc_window_display": false
  }
 },
 "nbformat": 4,
 "nbformat_minor": 1
}
